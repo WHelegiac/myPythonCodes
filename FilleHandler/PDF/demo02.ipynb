{
 "cells": [
  {
   "cell_type": "code",
   "execution_count": 15,
   "metadata": {},
   "outputs": [],
   "source": [
    "import PyPDF2\n",
    "import os\n",
    "\n",
    "path = \"E:\\BaiduNetdiskDownload\\CS-Library\\杂\"\n",
    "\n",
    "PDF_path =  os.path.join(path,os.listdir(path)[0])\n",
    "\n",
    "with open(PDF_path,'rb') as file:\n",
    "    reader = PyPDF2.PdfFileReader(file)\n",
    "    page_num = reader.getNumPages()\n",
    "    \n",
    "    \n",
    "\n",
    "writer = PyPDF2.PdfFileWriter()\n",
    "\n",
    "for index in range(1,page_num):\n",
    "    writer.addPage(reader.getPage(index))\n",
    "\n",
    "with open(os.path.join(path,\"github.pdf\"),'wb') as newFile:\n",
    "    writer.write(newFile)\n",
    "     "
   ]
  }
 ],
 "metadata": {
  "interpreter": {
   "hash": "cbd36271b14161e816249ef302914b36ea00e417f0243174c8de0dd9cab2f8e6"
  },
  "kernelspec": {
   "display_name": "Python 3.9.7 ('base')",
   "language": "python",
   "name": "python3"
  },
  "language_info": {
   "codemirror_mode": {
    "name": "ipython",
    "version": 3
   },
   "file_extension": ".py",
   "mimetype": "text/x-python",
   "name": "python",
   "nbconvert_exporter": "python",
   "pygments_lexer": "ipython3",
   "version": "3.9.7"
  },
  "orig_nbformat": 4
 },
 "nbformat": 4,
 "nbformat_minor": 2
}
