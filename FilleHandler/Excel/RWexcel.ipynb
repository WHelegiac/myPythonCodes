{
 "cells": [
  {
   "cell_type": "code",
   "execution_count": null,
   "metadata": {},
   "outputs": [],
   "source": [
    "#导入读写excel库\n",
    "import xlrd\n",
    "import xlwt"
   ]
  },
  {
   "cell_type": "code",
   "execution_count": null,
   "metadata": {},
   "outputs": [],
   "source": [
    "file_path = \"../Data/age-18~25.xlsx\"\n",
    "\n",
    "data = xlrd.open_workbook(file_path)    #获取excel\n",
    "table = data.sheets()[0]                #获取表\n",
    "value = table.cell_value(rowx=0,colx=0) #制定某位置的值\n",
    "print(value)"
   ]
  },
  {
   "cell_type": "markdown",
   "metadata": {},
   "source": [
    "Excel文件汇总示例"
   ]
  },
  {
   "cell_type": "code",
   "execution_count": null,
   "metadata": {},
   "outputs": [],
   "source": [
    "import xlrd\n",
    "import xlwt\n",
    "from pathlib import Path,PurePath\n",
    "#导入操作库\n",
    "\n",
    "#指定待汇总的excel目录路径\n",
    "src_path = \"../Data\"\n",
    "#指定合并完成的excel存放路径\n",
    "dst_file = \"../Data/goal.xlsx\"\n",
    "\n",
    "#获得目录下待汇总的excel文件\n",
    "p = Path(src_path)\n",
    "files = [x for x in p.iterdir() if PurePath(x).match('*xlsx')]\n",
    "\n",
    "#准备一个列表存放读取结果\n",
    "content = []\n",
    "\n",
    "#循环处理\n",
    "for file in files:\n",
    "    #用文件名作为每个用户的标识\n",
    "    username = file.stem\n",
    "    #提取数据\n",
    "    excel = xlrd.open_workbook(file)\n",
    "    table = excel.sheets()[0]\n",
    "    #取得相应的数据\n",
    "    data1 = table.cell_value(rowx=1,colx=1)\n",
    "    data2 = table.cell_value(rowx=2,colx=2)\n",
    "    temp = f\"{username},{data1},{data2}\"\n",
    "    #合并成一行先存储起来\n",
    "    content.append(temp.split(','))\n",
    "  \n",
    "  \n",
    "table_header = [\"A\",\"B\",\"C\"]    #头部\n",
    "\n",
    "#创建excel表\n",
    "workbook = xlwt.Workbook(encoding='utf-8')\n",
    "sheet = workbook.add_sheet('汇总')\n",
    "\n",
    "#循环写入\n",
    "row = 0\n",
    "col = 0\n",
    "\n",
    "for cell_header in table_header:\n",
    "    sheet.write(row,col,cell_header)\n",
    "    col += 1\n",
    "\n",
    "row += 1\n",
    "for line in content:\n",
    "    col = 0\n",
    "    for cell in line:\n",
    "        sheet.write(row,col,cell)\n",
    "        col += 1\n",
    "    row += 1\n",
    "\n",
    "#保存excel\n",
    "workbook.save(dst_file)\n",
    "    \n",
    "    "
   ]
  }
 ],
 "metadata": {
  "interpreter": {
   "hash": "a6e944699bf9c0f5da2073125e717654b7a0a4b9e7784affecc55ebea1d3b89d"
  },
  "kernelspec": {
   "display_name": "Python 3.8.10 64-bit",
   "language": "python",
   "name": "python3"
  },
  "language_info": {
   "codemirror_mode": {
    "name": "ipython",
    "version": 3
   },
   "file_extension": ".py",
   "mimetype": "text/x-python",
   "name": "python",
   "nbconvert_exporter": "python",
   "pygments_lexer": "ipython3",
   "version": "3.8.10"
  },
  "orig_nbformat": 4
 },
 "nbformat": 4,
 "nbformat_minor": 2
}
