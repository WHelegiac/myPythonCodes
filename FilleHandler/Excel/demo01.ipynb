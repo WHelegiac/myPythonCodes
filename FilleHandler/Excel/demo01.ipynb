{
 "cells": [
  {
   "cell_type": "code",
   "execution_count": 12,
   "metadata": {},
   "outputs": [],
   "source": [
    "import xlwt\n",
    "\n",
    "wb = xlwt.Workbook()\n",
    "ws = wb.add_sheet('sheet1')\n",
    "ws.write(0,0,label='WanHao')\n",
    "ws.write(0,1,label=\"ShaBi\")\n",
    "wb.save('test.xls')"
   ]
  },
  {
   "cell_type": "code",
   "execution_count": 2,
   "metadata": {},
   "outputs": [
    {
     "name": "stdout",
     "output_type": "stream",
     "text": [
      "双林社区、丽景社区、龙都社区、融城社区、凤阳社区、万有社区、常嘉社区、逸景社区、双城社区、凤阳村、公民村、五一村、互助村、民乐村、八桥村、新华村、民新村、八一村、双山村、桥梓塘村\n",
      "\n",
      "马家堡社区 浮图关社区 肖家湾社区 大黄路社区 袁家岗社区 七牌坊社区 大坪正街社区 天灯堡社区\n",
      "\n",
      "清溪园社区、土桥正街社区、屏都社区、王家坝社区、苦竹坝社区、走马梁社区、新工地社区、经建社区、道角社区、重工社区、民主社区、红光社区、岔路口社区、陈家湾社区、学堂湾社区、南城社区、柳镇社区、炒油场社区、岔路口村、民主村、建新村、花溪村、新屋村、先锋村\n",
      "\n",
      "南湖社区、骑龙社区、海峡路社区、大石社区、金堰社区、明佳园社区、古楼湾社区、花园路社区、金山路社区、丹龙路社区、金鹤社区\n",
      "\n",
      "兼善社区、燎原社区、龙凤社区、群兴村、长滩村、龙车村、凤凰村\n",
      "\n",
      "冉家坝社区、花园新村社区、余松路社区、龙山路社区、龙华社区、龙脊新村社区、松石路社区、天竺路社区、松牌路社区、银桦路社区、旗龙路社区、旗山路社区、盘溪河社区\n",
      "\n",
      "刘家台社区 黎明社区 五里店社区 富强社区 雨花社区 劳动社区 平安社区 工校社区 红土地社区 渝能阳光社区 蓝色经典社区 东康社区\n",
      "\n",
      "新桥社区 凤鸣山社区 高滩岩社区 居上桥社区 张家湾社区\n",
      "\n",
      "西郊二村社区、西郊三村社区、新胜村社区、兴胜路社区、团结路社区、前进路社区、新华一村社区、新华二村社区、新华三村社区、杨渡村社区、天宝路社区、天兴路社区、杨渡路社区\n",
      "\n"
     ]
    }
   ],
   "source": [
    "import xlwt\n",
    "\n",
    "wb = xlwt.Workbook()\n",
    "ws = wb.add_sheet('sheet1')\n",
    "\n",
    "with open(\"../../Trash/抽取街道社区信息/抽取的各街道下社区汇总.txt\") as file:\n",
    "    lines = file.readlines()\n",
    "\n",
    "col  = 0\n",
    "row = 0\n",
    "\n",
    "for line in lines:\n",
    "    if line.endswith(':\\n') or line == '\\n':\n",
    "        continue\n",
    "\n",
    "    print(line)\n",
    "    if line.find('、') != -1:\n",
    "        cells = line.split('、')\n",
    "        for cell in cells:\n",
    "            ws.write(row,col,label=cell)\n",
    "            row += 1\n",
    "        \n",
    "    else :\n",
    "        cells = line.split(' ')\n",
    "        for cell in cells:\n",
    "            ws.write(row,col,label=cell)\n",
    "            row += 1\n",
    "\n",
    "wb.save(\"test.xls\")"
   ]
  }
 ],
 "metadata": {
  "interpreter": {
   "hash": "a6e944699bf9c0f5da2073125e717654b7a0a4b9e7784affecc55ebea1d3b89d"
  },
  "kernelspec": {
   "display_name": "Python 3.8.10 64-bit",
   "language": "python",
   "name": "python3"
  },
  "language_info": {
   "codemirror_mode": {
    "name": "ipython",
    "version": 3
   },
   "file_extension": ".py",
   "mimetype": "text/x-python",
   "name": "python",
   "nbconvert_exporter": "python",
   "pygments_lexer": "ipython3",
   "version": "3.8.10"
  },
  "orig_nbformat": 4
 },
 "nbformat": 4,
 "nbformat_minor": 2
}
