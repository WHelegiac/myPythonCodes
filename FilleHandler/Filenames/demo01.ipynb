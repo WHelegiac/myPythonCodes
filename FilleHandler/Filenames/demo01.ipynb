{
 "cells": [
  {
   "cell_type": "code",
   "execution_count": 4,
   "metadata": {},
   "outputs": [],
   "source": [
    "import os\n",
    "\n",
    "path = \"E:\\\\BaiduNetdiskDownload\\\\Recent-Process\\\\Nginx入门与实战\"\n",
    "\n",
    "filenames = os.listdir(path)\n",
    "\n",
    "\n",
    "for filename in filenames:\n",
    "    old_name = os.path.join(path,filename)\n",
    "    new_name = old_name.replace('IT教程吧【www.itjc8.com】','')\n",
    "    os.rename(old_name,new_name)"
   ]
  }
 ],
 "metadata": {
  "interpreter": {
   "hash": "a6e944699bf9c0f5da2073125e717654b7a0a4b9e7784affecc55ebea1d3b89d"
  },
  "kernelspec": {
   "display_name": "Python 3.8.10 64-bit",
   "language": "python",
   "name": "python3"
  },
  "language_info": {
   "codemirror_mode": {
    "name": "ipython",
    "version": 3
   },
   "file_extension": ".py",
   "mimetype": "text/x-python",
   "name": "python",
   "nbconvert_exporter": "python",
   "pygments_lexer": "ipython3",
   "version": "3.8.10"
  },
  "orig_nbformat": 4
 },
 "nbformat": 4,
 "nbformat_minor": 2
}
