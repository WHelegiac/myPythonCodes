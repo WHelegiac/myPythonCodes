{
 "cells": [
  {
   "cell_type": "code",
   "execution_count": 1,
   "metadata": {},
   "outputs": [],
   "source": [
    "import os\n",
    "import zipfile"
   ]
  },
  {
   "cell_type": "code",
   "execution_count": 23,
   "metadata": {},
   "outputs": [
    {
     "ename": "PermissionError",
     "evalue": "[WinError 32] 另一个程序正在使用此文件，进程无法访问。: 'E:\\\\BaiduNetdiskDownload\\\\Recent-Process\\\\高并发 高性能 高可用 MySQL 实战\\\\资料\\\\0-master.zip'",
     "output_type": "error",
     "traceback": [
      "\u001b[1;31m---------------------------------------------------------------------------\u001b[0m",
      "\u001b[1;31mPermissionError\u001b[0m                           Traceback (most recent call last)",
      "\u001b[1;32md:\\my_python_codes\\FilleHandler\\Zip\\demo01.ipynb Cell 2'\u001b[0m in \u001b[0;36m<module>\u001b[1;34m\u001b[0m\n\u001b[0;32m     <a href='vscode-notebook-cell:/d%3A/my_python_codes/FilleHandler/Zip/demo01.ipynb#ch0000001?line=38'>39</a>\u001b[0m \u001b[39mif\u001b[39;00m \u001b[39m__name__\u001b[39m \u001b[39m==\u001b[39m \u001b[39m\"\u001b[39m\u001b[39m__main__\u001b[39m\u001b[39m\"\u001b[39m:\n\u001b[0;32m     <a href='vscode-notebook-cell:/d%3A/my_python_codes/FilleHandler/Zip/demo01.ipynb#ch0000001?line=39'>40</a>\u001b[0m     parent_path \u001b[39m=\u001b[39m \u001b[39mr\u001b[39m\u001b[39m\"\u001b[39m\u001b[39mE:\u001b[39m\u001b[39m\\\u001b[39m\u001b[39mBaiduNetdiskDownload\u001b[39m\u001b[39m\\\u001b[39m\u001b[39mRecent-Process\u001b[39m\u001b[39m\\\u001b[39m\u001b[39m高并发 高性能 高可用 MySQL 实战\u001b[39m\u001b[39m\\\u001b[39m\u001b[39m资料\u001b[39m\u001b[39m\"\u001b[39m\n\u001b[1;32m---> <a href='vscode-notebook-cell:/d%3A/my_python_codes/FilleHandler/Zip/demo01.ipynb#ch0000001?line=40'>41</a>\u001b[0m     unzip(parent_path)\n",
      "\u001b[1;32md:\\my_python_codes\\FilleHandler\\Zip\\demo01.ipynb Cell 2'\u001b[0m in \u001b[0;36munzip\u001b[1;34m(file_path)\u001b[0m\n\u001b[0;32m     <a href='vscode-notebook-cell:/d%3A/my_python_codes/FilleHandler/Zip/demo01.ipynb#ch0000001?line=30'>31</a>\u001b[0m     fz\u001b[39m.\u001b[39mclose()\n\u001b[0;32m     <a href='vscode-notebook-cell:/d%3A/my_python_codes/FilleHandler/Zip/demo01.ipynb#ch0000001?line=31'>32</a>\u001b[0m     \u001b[39m# 删除文件 # 可选的\u001b[39;00m\n\u001b[1;32m---> <a href='vscode-notebook-cell:/d%3A/my_python_codes/FilleHandler/Zip/demo01.ipynb#ch0000001?line=32'>33</a>\u001b[0m     del_old_zip(zip_file)\n\u001b[0;32m     <a href='vscode-notebook-cell:/d%3A/my_python_codes/FilleHandler/Zip/demo01.ipynb#ch0000001?line=34'>35</a>\u001b[0m \u001b[39melse\u001b[39;00m:\n\u001b[0;32m     <a href='vscode-notebook-cell:/d%3A/my_python_codes/FilleHandler/Zip/demo01.ipynb#ch0000001?line=35'>36</a>\u001b[0m     \u001b[39mprint\u001b[39m(\u001b[39mfr\u001b[39m\u001b[39m\"\u001b[39m\u001b[39m{\u001b[39;00mzip_file\u001b[39m}\u001b[39;00m\u001b[39m this is not zip\u001b[39m\u001b[39m\"\u001b[39m)\n",
      "\u001b[1;32md:\\my_python_codes\\FilleHandler\\Zip\\demo01.ipynb Cell 2'\u001b[0m in \u001b[0;36mdel_old_zip\u001b[1;34m(file_name)\u001b[0m\n\u001b[0;32m     <a href='vscode-notebook-cell:/d%3A/my_python_codes/FilleHandler/Zip/demo01.ipynb#ch0000001?line=9'>10</a>\u001b[0m \u001b[39mdef\u001b[39;00m \u001b[39mdel_old_zip\u001b[39m(file_name):\n\u001b[1;32m---> <a href='vscode-notebook-cell:/d%3A/my_python_codes/FilleHandler/Zip/demo01.ipynb#ch0000001?line=10'>11</a>\u001b[0m     os\u001b[39m.\u001b[39;49mremove(file_name)\n",
      "\u001b[1;31mPermissionError\u001b[0m: [WinError 32] 另一个程序正在使用此文件，进程无法访问。: 'E:\\\\BaiduNetdiskDownload\\\\Recent-Process\\\\高并发 高性能 高可用 MySQL 实战\\\\资料\\\\0-master.zip'"
     ]
    }
   ],
   "source": [
    "# #\n",
    "\n",
    "# # @time    :2022/3/11 22:45\n",
    "\n",
    "# import os\n",
    "# import zipfile\n",
    "# # 将文件解压到当前文件夹下\n",
    "\n",
    "\n",
    "# def del_old_zip(file_name):\n",
    "#     os.remove(file_name)\n",
    "\n",
    "\n",
    "# def unzip(file_path):\n",
    "#     # file_path 为zip文件的全路径\n",
    "#     # root 为解压后的路径\n",
    "#     zip_name = os.listdir(file_path)  # 获取路径下的所有文件\n",
    "#     for name in zip_name:\n",
    "#         # 判断文件夹是否存在，如果不存在则创建文件夹\n",
    "#         zip_file = os.path.join(file_path, str(name))  # 拼接文件的全名\n",
    "#         if zip_file.endswith(\".zip\"):\n",
    "#             # 创建文件夹,\n",
    "#             # unzip_file = os.mkdir()) # 拼接文件夹的名字\n",
    "#             # unzip_filename = os.path.join(file_path, str(unzip_file))\n",
    "#             # 判断文件的结尾是否为zip结尾\n",
    "#             fz = zipfile.ZipFile(zip_file, \"r\")\n",
    "#             file_name = name.split(\".\")[0]\n",
    "#             for file in fz.namelist():\n",
    "#                 fz.extract(file, os.path.join(\n",
    "#                     file_path, os.path.join(file_path, str(file_name))))\n",
    "#             fz.close()\n",
    "#             # 删除文件 # 可选的\n",
    "#             del_old_zip(zip_file)\n",
    "\n",
    "#         else:\n",
    "#             print(fr\"{zip_file} this is not zip\")\n",
    "\n",
    "\n",
    "# if __name__ == \"__main__\":\n",
    "#     parent_path = r\"E:\\BaiduNetdiskDownload\\Recent-Process\\高并发 高性能 高可用 MySQL 实战\\资料\"\n",
    "#     unzip(parent_path)\n"
   ]
  },
  {
   "cell_type": "code",
   "execution_count": 21,
   "metadata": {},
   "outputs": [
    {
     "name": "stdout",
     "output_type": "stream",
     "text": [
      "E:\\BaiduNetdiskDownload\\Recent-Process\\高并发 高性能 高可用 MySQL 实战\\资料\n"
     ]
    },
    {
     "ename": "KeyError",
     "evalue": "\"There is no item named 'E:\\\\\\\\BaiduNetdiskDownload\\\\\\\\Recent-Process\\\\\\\\高并发 高性能 高可用 MySQL 实战\\\\\\\\资料' in the archive\"",
     "output_type": "error",
     "traceback": [
      "\u001b[1;31m---------------------------------------------------------------------------\u001b[0m",
      "\u001b[1;31mKeyError\u001b[0m                                  Traceback (most recent call last)",
      "\u001b[1;32md:\\my_python_codes\\FilleHandler\\Zip\\demo01.ipynb Cell 3'\u001b[0m in \u001b[0;36m<module>\u001b[1;34m\u001b[0m\n\u001b[0;32m      <a href='vscode-notebook-cell:/d%3A/my_python_codes/FilleHandler/Zip/demo01.ipynb#ch0000002?line=4'>5</a>\u001b[0m path \u001b[39m=\u001b[39m os\u001b[39m.\u001b[39msep\u001b[39m.\u001b[39mjoin((path\u001b[39m.\u001b[39msplit(os\u001b[39m.\u001b[39msep)))\n\u001b[0;32m      <a href='vscode-notebook-cell:/d%3A/my_python_codes/FilleHandler/Zip/demo01.ipynb#ch0000002?line=5'>6</a>\u001b[0m \u001b[39mprint\u001b[39m(path)\n\u001b[1;32m----> <a href='vscode-notebook-cell:/d%3A/my_python_codes/FilleHandler/Zip/demo01.ipynb#ch0000002?line=6'>7</a>\u001b[0m unzip(path)\n",
      "\u001b[1;32md:\\my_python_codes\\FilleHandler\\Zip\\demo01.ipynb Cell 2'\u001b[0m in \u001b[0;36munzip\u001b[1;34m(folder_path)\u001b[0m\n\u001b[0;32m      <a href='vscode-notebook-cell:/d%3A/my_python_codes/FilleHandler/Zip/demo01.ipynb#ch0000001?line=6'>7</a>\u001b[0m file_name \u001b[39m=\u001b[39m name\u001b[39m.\u001b[39msplit(\u001b[39m'\u001b[39m\u001b[39m.\u001b[39m\u001b[39m'\u001b[39m)[\u001b[39m0\u001b[39m]\n\u001b[0;32m      <a href='vscode-notebook-cell:/d%3A/my_python_codes/FilleHandler/Zip/demo01.ipynb#ch0000001?line=7'>8</a>\u001b[0m \u001b[39mfor\u001b[39;00m file \u001b[39min\u001b[39;00m fz\u001b[39m.\u001b[39mnamelist():\n\u001b[1;32m----> <a href='vscode-notebook-cell:/d%3A/my_python_codes/FilleHandler/Zip/demo01.ipynb#ch0000001?line=8'>9</a>\u001b[0m     fz\u001b[39m.\u001b[39;49mextract(folder_path, os\u001b[39m.\u001b[39;49mpath\u001b[39m.\u001b[39;49mjoin(folder_path,file_name))\n\u001b[0;32m     <a href='vscode-notebook-cell:/d%3A/my_python_codes/FilleHandler/Zip/demo01.ipynb#ch0000001?line=9'>10</a>\u001b[0m     fz\u001b[39m.\u001b[39mclose()\n\u001b[0;32m     <a href='vscode-notebook-cell:/d%3A/my_python_codes/FilleHandler/Zip/demo01.ipynb#ch0000001?line=10'>11</a>\u001b[0m \u001b[39mprint\u001b[39m(\u001b[39mf\u001b[39m\u001b[39m\"\u001b[39m\u001b[39m{\u001b[39;00mzip_filename\u001b[39m}\u001b[39;00m\u001b[39m have been unziped\u001b[39m\u001b[39m\"\u001b[39m)\n",
      "File \u001b[1;32mD:\\the_python\\lib\\zipfile.py:1630\u001b[0m, in \u001b[0;36mZipFile.extract\u001b[1;34m(self, member, path, pwd)\u001b[0m\n\u001b[0;32m   <a href='file:///d%3A/the_python/lib/zipfile.py?line=1626'>1627</a>\u001b[0m \u001b[39melse\u001b[39;00m:\n\u001b[0;32m   <a href='file:///d%3A/the_python/lib/zipfile.py?line=1627'>1628</a>\u001b[0m     path \u001b[39m=\u001b[39m os\u001b[39m.\u001b[39mfspath(path)\n\u001b[1;32m-> <a href='file:///d%3A/the_python/lib/zipfile.py?line=1629'>1630</a>\u001b[0m \u001b[39mreturn\u001b[39;00m \u001b[39mself\u001b[39;49m\u001b[39m.\u001b[39;49m_extract_member(member, path, pwd)\n",
      "File \u001b[1;32mD:\\the_python\\lib\\zipfile.py:1669\u001b[0m, in \u001b[0;36mZipFile._extract_member\u001b[1;34m(self, member, targetpath, pwd)\u001b[0m\n\u001b[0;32m   <a href='file:///d%3A/the_python/lib/zipfile.py?line=1664'>1665</a>\u001b[0m \u001b[39m\"\"\"Extract the ZipInfo object 'member' to a physical\u001b[39;00m\n\u001b[0;32m   <a href='file:///d%3A/the_python/lib/zipfile.py?line=1665'>1666</a>\u001b[0m \u001b[39m   file on the path targetpath.\u001b[39;00m\n\u001b[0;32m   <a href='file:///d%3A/the_python/lib/zipfile.py?line=1666'>1667</a>\u001b[0m \u001b[39m\"\"\"\u001b[39;00m\n\u001b[0;32m   <a href='file:///d%3A/the_python/lib/zipfile.py?line=1667'>1668</a>\u001b[0m \u001b[39mif\u001b[39;00m \u001b[39mnot\u001b[39;00m \u001b[39misinstance\u001b[39m(member, ZipInfo):\n\u001b[1;32m-> <a href='file:///d%3A/the_python/lib/zipfile.py?line=1668'>1669</a>\u001b[0m     member \u001b[39m=\u001b[39m \u001b[39mself\u001b[39;49m\u001b[39m.\u001b[39;49mgetinfo(member)\n\u001b[0;32m   <a href='file:///d%3A/the_python/lib/zipfile.py?line=1670'>1671</a>\u001b[0m \u001b[39m# build the destination pathname, replacing\u001b[39;00m\n\u001b[0;32m   <a href='file:///d%3A/the_python/lib/zipfile.py?line=1671'>1672</a>\u001b[0m \u001b[39m# forward slashes to platform specific separators.\u001b[39;00m\n\u001b[0;32m   <a href='file:///d%3A/the_python/lib/zipfile.py?line=1672'>1673</a>\u001b[0m arcname \u001b[39m=\u001b[39m member\u001b[39m.\u001b[39mfilename\u001b[39m.\u001b[39mreplace(\u001b[39m'\u001b[39m\u001b[39m/\u001b[39m\u001b[39m'\u001b[39m, os\u001b[39m.\u001b[39mpath\u001b[39m.\u001b[39msep)\n",
      "File \u001b[1;32mD:\\the_python\\lib\\zipfile.py:1441\u001b[0m, in \u001b[0;36mZipFile.getinfo\u001b[1;34m(self, name)\u001b[0m\n\u001b[0;32m   <a href='file:///d%3A/the_python/lib/zipfile.py?line=1438'>1439</a>\u001b[0m info \u001b[39m=\u001b[39m \u001b[39mself\u001b[39m\u001b[39m.\u001b[39mNameToInfo\u001b[39m.\u001b[39mget(name)\n\u001b[0;32m   <a href='file:///d%3A/the_python/lib/zipfile.py?line=1439'>1440</a>\u001b[0m \u001b[39mif\u001b[39;00m info \u001b[39mis\u001b[39;00m \u001b[39mNone\u001b[39;00m:\n\u001b[1;32m-> <a href='file:///d%3A/the_python/lib/zipfile.py?line=1440'>1441</a>\u001b[0m     \u001b[39mraise\u001b[39;00m \u001b[39mKeyError\u001b[39;00m(\n\u001b[0;32m   <a href='file:///d%3A/the_python/lib/zipfile.py?line=1441'>1442</a>\u001b[0m         \u001b[39m'\u001b[39m\u001b[39mThere is no item named \u001b[39m\u001b[39m%r\u001b[39;00m\u001b[39m in the archive\u001b[39m\u001b[39m'\u001b[39m \u001b[39m%\u001b[39m name)\n\u001b[0;32m   <a href='file:///d%3A/the_python/lib/zipfile.py?line=1443'>1444</a>\u001b[0m \u001b[39mreturn\u001b[39;00m info\n",
      "\u001b[1;31mKeyError\u001b[0m: \"There is no item named 'E:\\\\\\\\BaiduNetdiskDownload\\\\\\\\Recent-Process\\\\\\\\高并发 高性能 高可用 MySQL 实战\\\\\\\\资料' in the archive\""
     ]
    }
   ],
   "source": [
    "path = \"E:\\BaiduNetdiskDownload\\Recent-Process\\高并发 高性能 高可用 MySQL 实战\\资料\"\n",
    "\n",
    "\n",
    "\n",
    "path = os.sep.join((path.split(os.sep)))\n",
    "print(path)\n",
    "# unzip(path)"
   ]
  }
 ],
 "metadata": {
  "interpreter": {
   "hash": "a6e944699bf9c0f5da2073125e717654b7a0a4b9e7784affecc55ebea1d3b89d"
  },
  "kernelspec": {
   "display_name": "Python 3.8.10 64-bit",
   "language": "python",
   "name": "python3"
  },
  "language_info": {
   "codemirror_mode": {
    "name": "ipython",
    "version": 3
   },
   "file_extension": ".py",
   "mimetype": "text/x-python",
   "name": "python",
   "nbconvert_exporter": "python",
   "pygments_lexer": "ipython3",
   "version": "3.8.10"
  },
  "orig_nbformat": 4
 },
 "nbformat": 4,
 "nbformat_minor": 2
}
