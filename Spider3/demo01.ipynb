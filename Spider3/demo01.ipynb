{
 "cells": [
  {
   "cell_type": "code",
   "execution_count": null,
   "metadata": {},
   "outputs": [],
   "source": []
  },
  {
   "cell_type": "code",
   "execution_count": null,
   "metadata": {},
   "outputs": [],
   "source": [
    "from bs4 import BeautifulSoup\n",
    "with open(\"./HTML/知乎-体检.html\") as file:\n",
    "    html = file.read()\n",
    "    \n",
    "soup = BeautifulSoup(html,'lxml')\n",
    "\n",
    "questions = soup.find_all('span',{\n",
    "    'class' :  \"Highlight\"\n",
    "})\n",
    "\n",
    "with open(\"./TXT/知乎问题2.txt\",'a') as txt:\n",
    "    for ques in  questions:\n",
    "        txt.write(ques.get_text() + '，')"
   ]
  },
  {
   "cell_type": "code",
   "execution_count": 2,
   "metadata": {},
   "outputs": [
    {
     "name": "stdout",
     "output_type": "stream",
     "text": [
      "['体检', '入职', '公务员', '哪些', '什么', '医院', '合格', '如何', '检查', '征兵', '项目', '裸检', '流程', '注意事项', '哪些项目', '体检中心', '为什么', '需要', '几项', '多少']\n"
     ]
    }
   ],
   "source": [
    "import jieba.analyse as ja\n",
    "import pprint\n",
    "\n",
    "with open(\"./TXT/知乎问题2.txt\") as file:\n",
    "    text = file.read()\n",
    "    \n",
    "key_words = ja.extract_tags(text,topK= 20,withWeight=False)\n",
    "print(key_words)"
   ]
  },
  {
   "cell_type": "code",
   "execution_count": null,
   "metadata": {},
   "outputs": [],
   "source": [
    "import pprint\n",
    "import jieba\n",
    "\n",
    "with open(\"./TXT/知乎问题.txt\") as file:\n",
    "    lines = file.readlines()\n",
    "\n",
    "for line in lines:\n",
    "    content = jieba.cut(line)\n",
    "    print(\"分词后:\",'\\\\'.join(content))"
   ]
  }
 ],
 "metadata": {
  "interpreter": {
   "hash": "a6e944699bf9c0f5da2073125e717654b7a0a4b9e7784affecc55ebea1d3b89d"
  },
  "kernelspec": {
   "display_name": "Python 3.8.10 64-bit",
   "language": "python",
   "name": "python3"
  },
  "language_info": {
   "codemirror_mode": {
    "name": "ipython",
    "version": 3
   },
   "file_extension": ".py",
   "mimetype": "text/x-python",
   "name": "python",
   "nbconvert_exporter": "python",
   "pygments_lexer": "ipython3",
   "version": "3.8.10"
  },
  "orig_nbformat": 4
 },
 "nbformat": 4,
 "nbformat_minor": 2
}
