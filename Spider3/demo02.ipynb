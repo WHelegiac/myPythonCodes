{
 "cells": [
  {
   "cell_type": "code",
   "execution_count": 5,
   "metadata": {},
   "outputs": [],
   "source": [
    "from bs4 import BeautifulSoup\n",
    "from selenium import webdriver\n",
    "import requests\n",
    "from fake_useragent import UserAgent\n",
    "\n",
    "url_prefix = \"https://www.zhihu.com\"\n",
    "\n",
    "url_suffix = \"/question/334295539/answer/1403415014\"\n",
    "\n",
    "url = url_prefix + url_suffix\n",
    "\n",
    "ua = UserAgent()\n",
    "\n",
    "header = {\n",
    "    \"User-Agent\" : ua.firefox\n",
    "}\n",
    "\n",
    "res = requests.get(url=url,headers=header)\n",
    "\n",
    "with open(\"./HTML/知乎回答01.html\",'w') as file:\n",
    "    file.write(res.content.decode())\n",
    "    \n"
   ]
  },
  {
   "cell_type": "code",
   "execution_count": null,
   "metadata": {},
   "outputs": [],
   "source": []
  }
 ],
 "metadata": {
  "interpreter": {
   "hash": "a6e944699bf9c0f5da2073125e717654b7a0a4b9e7784affecc55ebea1d3b89d"
  },
  "kernelspec": {
   "display_name": "Python 3.8.10 64-bit",
   "language": "python",
   "name": "python3"
  },
  "language_info": {
   "codemirror_mode": {
    "name": "ipython",
    "version": 3
   },
   "file_extension": ".py",
   "mimetype": "text/x-python",
   "name": "python",
   "nbconvert_exporter": "python",
   "pygments_lexer": "ipython3",
   "version": "3.8.10"
  },
  "orig_nbformat": 4
 },
 "nbformat": 4,
 "nbformat_minor": 2
}
