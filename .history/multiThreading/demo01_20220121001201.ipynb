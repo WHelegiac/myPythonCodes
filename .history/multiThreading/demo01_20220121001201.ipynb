{
 "cells": [
  {
   "cell_type": "code",
   "execution_count": null,
   "metadata": {},
   "outputs": [],
   "source": [
    "import threading\n",
    "import time\n",
    "\n",
    "\n",
    "total = 0\n",
    "\n",
    "def add():\n",
    "    global total\n",
    "    for i in range(100000):\n",
    "        total += 1\n",
    "    time.sleep(2)\n",
    "        \n",
    "def desc():\n",
    "    global total\n",
    "    for i in range(100000):\n",
    "        total -= 1\n",
    "        \n",
    "        \n",
    "threadOne = threading.Thread(target=add)\n",
    "threadTwo = threading.Thread(target=desc)\n",
    "threadOne.start()\n",
    "print(total)\n",
    "threadTwo.start()\n",
    "print(total)\n",
    "        "
   ]
  },
  {
   "cell_type": "code",
   "execution_count": 42,
   "metadata": {},
   "outputs": [
    {
     "name": "stderr",
     "output_type": "stream",
     "text": [
      "Exception in thread Thread-86:\n",
      "Traceback (most recent call last):\n",
      "  File \"D:\\the_anaconda3\\lib\\threading.py\", line 973, in _bootstrap_inner\n",
      "Exception in thread Thread-87:\n",
      "Traceback (most recent call last):\n",
      "  File \"D:\\the_anaconda3\\lib\\threading.py\", line 973, in _bootstrap_inner\n",
      "        self.run()self.run()\n",
      "  File \"D:\\the_anaconda3\\lib\\threading.py\", line 910, in run\n",
      "\n",
      "  File \"D:\\the_anaconda3\\lib\\threading.py\", line 910, in run\n",
      "    self._target(*self._args, **self._kwargs)\n",
      "TypeError: get_detail_url() missing 1 required positional argument: 'url'\n",
      "    self._target(*self._args, **self._kwargs)\n",
      "TypeError: get_detail_html() missing 1 required positional argument: 'url'\n"
     ]
    }
   ],
   "source": [
    "import threading\n",
    "import time\n",
    "\n",
    "def get_detail_html(url):\n",
    "    print(\"get detail html started!\")\n",
    "    time.sleep(2)\n",
    "    print(\"get detail html end!\")\n",
    "    \n",
    "def get_detail_url(url):\n",
    "    print(\"get detail url started!\")\n",
    "    time.sleep(2)\n",
    "    print(\"get detail url end!\")\n",
    "    \n",
    "    \n",
    "    \n",
    "if __name__ == \"__main__\":\n",
    "    threadOne = threading.Thread(target=get_detail_html)\n",
    "    threadTwo = threading.Thread(target=get_detail_url)\n",
    "    #startTime = time.time()\n",
    "    threadOne.start()\n",
    "    threadTwo.start()\n",
    "    \n",
    "    #print(\"Totally use {}\".format(time.time()- startTime))\n",
    "    \n",
    "    "
   ]
  }
 ],
 "metadata": {
  "interpreter": {
   "hash": "cbd36271b14161e816249ef302914b36ea00e417f0243174c8de0dd9cab2f8e6"
  },
  "kernelspec": {
   "display_name": "Python 3.9.7 64-bit ('base': conda)",
   "language": "python",
   "name": "python3"
  },
  "language_info": {
   "codemirror_mode": {
    "name": "ipython",
    "version": 3
   },
   "file_extension": ".py",
   "mimetype": "text/x-python",
   "name": "python",
   "nbconvert_exporter": "python",
   "pygments_lexer": "ipython3",
   "version": "3.9.7"
  },
  "orig_nbformat": 4
 },
 "nbformat": 4,
 "nbformat_minor": 2
}
