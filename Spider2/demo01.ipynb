{
 "cells": [
  {
   "cell_type": "code",
   "execution_count": 12,
   "metadata": {},
   "outputs": [
    {
     "name": "stdout",
     "output_type": "stream",
     "text": [
      "<class 'str'>\n"
     ]
    }
   ],
   "source": [
    "from bs4 import BeautifulSoup\n",
    "\n",
    "with open(\"./HTML/demo01.html\") as file:\n",
    "    html = file.read()\n",
    "\n",
    "bs = BeautifulSoup(html,'html.parser')\n",
    "\n",
    "content = bs.find('h2',{\n",
    "    'class' : \"HotItem-title\"\n",
    "})\n",
    "\n",
    "print(type(str(content.string)))\n"
   ]
  },
  {
   "cell_type": "code",
   "execution_count": 2,
   "metadata": {},
   "outputs": [
    {
     "name": "stderr",
     "output_type": "stream",
     "text": [
      "C:\\Users\\Hu'a'wei\\AppData\\Local\\Temp\\ipykernel_183912\\2005845975.py:7: DeprecationWarning: executable_path has been deprecated, please pass in a Service object\n",
      "  firefox = webdriver.Firefox(executable_path=path)\n"
     ]
    }
   ],
   "source": [
    "from selenium import webdriver\n",
    "import time\n",
    "from selenium.webdriver import ActionChains\n",
    "\n",
    "path = \"D:\\\\the_geckodriver\\\\geckodriver.exe\"\n",
    "\n",
    "firefox = webdriver.Firefox(executable_path=path)\n",
    "\n",
    "# 控制火狐浏览器访问目标网站\n",
    "firefox.get(\"https://s.weibo.com/topic?q=%E4%BD%93%E6%A3%80&pagetype=topic&topic=1&Refer=topic_topic\")\n",
    "\n",
    "# 窗口最大化（方便后续截图）\n",
    "#firefox.maximize_window()\n",
    "\n",
    "time.sleep(3)"
   ]
  }
 ],
 "metadata": {
  "interpreter": {
   "hash": "a6e944699bf9c0f5da2073125e717654b7a0a4b9e7784affecc55ebea1d3b89d"
  },
  "kernelspec": {
   "display_name": "Python 3.8.10 64-bit",
   "language": "python",
   "name": "python3"
  },
  "language_info": {
   "codemirror_mode": {
    "name": "ipython",
    "version": 3
   },
   "file_extension": ".py",
   "mimetype": "text/x-python",
   "name": "python",
   "nbconvert_exporter": "python",
   "pygments_lexer": "ipython3",
   "version": "3.8.10"
  },
  "orig_nbformat": 4
 },
 "nbformat": 4,
 "nbformat_minor": 2
}
