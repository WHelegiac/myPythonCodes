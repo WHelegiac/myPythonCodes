{
 "cells": [
  {
   "cell_type": "code",
   "execution_count": 1,
   "metadata": {},
   "outputs": [
    {
     "name": "stderr",
     "output_type": "stream",
     "text": [
      "Building prefix dict from the default dictionary ...\n",
      "Dumping model to file cache C:\\Users\\Hu'a'wei\\AppData\\Local\\Temp\\jieba.cache\n",
      "Loading model cost 0.890 seconds.\n",
      "Prefix dict has been built successfully.\n"
     ]
    },
    {
     "name": "stdout",
     "output_type": "stream",
     "text": [
      "Full Mode:韩国/东大/大门/单鞋/女方/方头/绒面/一脚/脚蹬/韩/版/休闲/2020/春季/新款/平底/毛毛/鞋\n",
      "Default Mode:韩国/东/大门/单鞋/女方/头/绒面/一/脚蹬/韩版/休闲/2020/春季/新款/平底/毛毛/鞋\n",
      "Search Mode:韩国/东/大门/单鞋/女方/头/绒面/一/脚蹬/韩版/休闲/2020/春季/新款/平底/毛毛/鞋\n"
     ]
    }
   ],
   "source": [
    "import jieba\n",
    "import jieba.posseg as pesg\n",
    "from jieba import analyse\n",
    "\n",
    "content = \"韩国东大门单鞋女方头绒面一脚蹬韩版休闲2020春季新款平底毛毛鞋\"\n",
    "\n",
    "#jieba.add_word('毛毛鞋',freq = None,tag = None)\n",
    "\n",
    "segments = jieba.cut(content,cut_all=True)\n",
    "print(\"Full Mode:\" + \"/\".join(segments))\n",
    "\n",
    "segments = jieba.cut(content,cut_all= False)\n",
    "print(\"Default Mode:\" + '/'.join(segments))\n",
    "\n",
    "segments = jieba.cut_for_search(content)\n",
    "\n",
    "print(\"Search Mode:\" + '/'.join(segments))"
   ]
  }
 ],
 "metadata": {
  "interpreter": {
   "hash": "a6e944699bf9c0f5da2073125e717654b7a0a4b9e7784affecc55ebea1d3b89d"
  },
  "kernelspec": {
   "display_name": "Python 3.8.10 64-bit",
   "language": "python",
   "name": "python3"
  },
  "language_info": {
   "codemirror_mode": {
    "name": "ipython",
    "version": 3
   },
   "file_extension": ".py",
   "mimetype": "text/x-python",
   "name": "python",
   "nbconvert_exporter": "python",
   "pygments_lexer": "ipython3",
   "version": "3.8.10"
  },
  "orig_nbformat": 4
 },
 "nbformat": 4,
 "nbformat_minor": 2
}
