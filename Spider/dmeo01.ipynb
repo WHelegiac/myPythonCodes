{
 "cells": [
  {
   "cell_type": "code",
   "execution_count": null,
   "metadata": {},
   "outputs": [],
   "source": [
    "import requests\n",
    "\n",
    "url = \"https://www.zhihu.com/question/266484323/answer/1921054065\"\n",
    "\n",
    "header = {\n",
    "    \"User-Agent\" : \"'Mozilla/5.0 (Windows NT 10.0; Win64; x64) AppleWebKit/537.36 (KHTML, like Gecko) Chrome/98.0.4758.102 Safari/537.36'\"\n",
    "}\n",
    "\n",
    "res = requests.get(url=url, headers= header)\n",
    "    \n",
    "with open(\"./HTML/test01.html\",'w') as file:\n",
    "    file.write(res.content.decode())\n",
    "\n"
   ]
  },
  {
   "cell_type": "code",
   "execution_count": null,
   "metadata": {},
   "outputs": [],
   "source": [
    "import difflib\n",
    "\n",
    "str1 = '''/html/body[@class='wiki-lemma neweditor normal']/div[@class='body-wrapper']/div[@class='content-wrapper']/div[@class='content']/div[@class='main-content J-content']/div[@class='para'][17]'''\n",
    "\n",
    "str2 = '''/html/body[@class='wiki-lemma neweditor normal']/div[@class='body-wrapper']/div[@class='content-wrapper']/div[@class='content']/div[@class='main-content J-content']/div[@class='para'][16]'''\n",
    "\n",
    "str3 = '''/html/body[@class='wiki-lemma neweditor normal']/div[@class='body-wrapper']/div[@class='content-wrapper']/div[@class='content']/div[@class='main-content J-content']/div[@class='para'][15]'''\n",
    "\n",
    "str1_lines = str1.splitlines()\n",
    "str2_lines = str2.splitlines()\n",
    "\n",
    "diff = difflib.Differ()\n",
    "d = diff.compare(str1_lines,str2_lines)\n",
    "print('\\n'.join(list(d)))"
   ]
  },
  {
   "cell_type": "code",
   "execution_count": null,
   "metadata": {},
   "outputs": [],
   "source": []
  },
  {
   "cell_type": "code",
   "execution_count": null,
   "metadata": {},
   "outputs": [],
   "source": [
    "from lxml import etree\n",
    "\n",
    "with open(\"./HTML/test01.html\") as file:\n",
    "    html = file.read()\n",
    "\n",
    "parse_html = etree.HTML(html)\n",
    "\n",
    "xpath_exp = \"/html/body/div[@id='root']/div/main[@class='App-main']/div/div[@class='QuestionPage']/div[@class='Question-main']/div[@class='ListShortcut']/div[@class='Question-mainColumn']/div[@class='Card AnswerCard css-0']/div[@class='QuestionAnswer-content']/div/div[@class='ContentItem AnswerItem']/div[@class='RichContent RichContent--unescapable']/div[@class='RichContent-inner']/span[@class='RichText ztext CopyrightRichText-richText css-hnrfcf']/p[3]/text()\"\n",
    "\n",
    "comment = parse_html.xpath(xpath_exp)\n",
    "print(comment)\n"
   ]
  }
 ],
 "metadata": {
  "interpreter": {
   "hash": "a6e944699bf9c0f5da2073125e717654b7a0a4b9e7784affecc55ebea1d3b89d"
  },
  "kernelspec": {
   "display_name": "Python 3.8.10 64-bit",
   "language": "python",
   "name": "python3"
  },
  "language_info": {
   "codemirror_mode": {
    "name": "ipython",
    "version": 3
   },
   "file_extension": ".py",
   "mimetype": "text/x-python",
   "name": "python",
   "nbconvert_exporter": "python",
   "pygments_lexer": "ipython3",
   "version": "3.8.10"
  },
  "orig_nbformat": 4
 },
 "nbformat": 4,
 "nbformat_minor": 2
}
