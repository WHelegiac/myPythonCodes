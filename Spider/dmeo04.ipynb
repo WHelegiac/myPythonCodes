{
 "cells": [
  {
   "cell_type": "code",
   "execution_count": null,
   "metadata": {},
   "outputs": [],
   "source": [
    "import requests\n",
    "from fake_useragent import UserAgent\n",
    "\n",
    "ua = UserAgent()\n",
    "\n",
    "url = \"https://www.zhihu.com/search?type=content&q=%E4%BD%93%E6%A3%80\"\n",
    "\n",
    "\n",
    "header = {\n",
    "    \"User-Agent\" : ua.firefox\n",
    "}\n",
    "\n",
    "res = requests.get(url=url, headers= header)\n",
    "    \n",
    "with open(\"./HTML/知乎-体检.html\",'w') as file:\n",
    "    file.write(res.content.decode())"
   ]
  },
  {
   "cell_type": "code",
   "execution_count": null,
   "metadata": {},
   "outputs": [],
   "source": [
    "import time\n",
    "from selenium import webdriver\n",
    "\n",
    "\n",
    "header = {\n",
    "    \"User-Agent\" : \"'Mozilla/5.0 (Windows NT 10.0; Win64; x64) AppleWebKit/537.36 (KHTML, like Gecko) Chrome/98.0.4758.102 Safari/537.36'\"\n",
    "}\n",
    "\n",
    "url = \"https://www.zhihu.com/search?type=content&q=%E4%BD%93%E6%A3%80\"\n",
    "\n",
    "driver_path = \"D://the_chromeDriver//chromedriver.exe\"\n",
    "\n",
    "chrome = webdriver.Chrome(executable_path=driver_path)\n",
    "chrome.get(\"https://www.zhihu.com/search?type=content&q=%E4%BD%93%E6%A3%80\")\n",
    "print(chrome.page_source)"
   ]
  },
  {
   "cell_type": "code",
   "execution_count": null,
   "metadata": {},
   "outputs": [],
   "source": [
    "import time\n",
    "from selenium import webdriver\n",
    "\n",
    "\n",
    "header = {\n",
    "    \"User-Agent\" : \"Mozilla/5.0 (Windows NT 10.0; Win64; x64; rv:97.0) Gecko/20100101 Firefox/97.0\"\n",
    "}\n",
    "\n",
    "url = \"https://www.zhihu.com/search?type=content&q=%E4%BD%93%E6%A3%80\"\n",
    "\n",
    "driver_path = \"D://the_chromeDriver//chromedriver.exe\"\n",
    "\n",
    "chrome = webdriver.Chrome(executable_path=driver_path)\n",
    "chrome.get(\"https://www.zhihu.com/search?type=content&q=%E4%BD%93%E6%A3%80\")\n",
    "print(chrome.page_source)"
   ]
  },
  {
   "cell_type": "code",
   "execution_count": 17,
   "metadata": {},
   "outputs": [
    {
     "name": "stderr",
     "output_type": "stream",
     "text": [
      "C:\\Users\\Hu'a'wei\\AppData\\Local\\Temp\\ipykernel_135664\\1339415000.py:13: DeprecationWarning: executable_path has been deprecated, please pass in a Service object\n",
      "  firefox = webdriver.Firefox(executable_path=geckodriver_path)\n"
     ]
    }
   ],
   "source": [
    "import time\n",
    "from selenium import webdriver\n",
    "\n",
    "\n",
    "header = {\n",
    "    \"User-Agent\" : \"Mozilla/5.0 (Windows NT 10.0; Win64; x64; rv:97.0) Gecko/20100101 Firefox/97.0\"\n",
    "}\n",
    "\n",
    "url = \"https://www.zhihu.com/search?type=content&q=%E4%BD%93%E6%A3%80\"\n",
    "\n",
    "geckodriver_path = \"D://the_geckodriver//geckodriver.exe\"\n",
    "\n",
    "firefox = webdriver.Firefox(executable_path=geckodriver_path)\n",
    "firefox.get(url)"
   ]
  }
 ],
 "metadata": {
  "interpreter": {
   "hash": "a6e944699bf9c0f5da2073125e717654b7a0a4b9e7784affecc55ebea1d3b89d"
  },
  "kernelspec": {
   "display_name": "Python 3.8.10 64-bit",
   "language": "python",
   "name": "python3"
  },
  "language_info": {
   "codemirror_mode": {
    "name": "ipython",
    "version": 3
   },
   "file_extension": ".py",
   "mimetype": "text/x-python",
   "name": "python",
   "nbconvert_exporter": "python",
   "pygments_lexer": "ipython3",
   "version": "3.8.10"
  },
  "orig_nbformat": 4
 },
 "nbformat": 4,
 "nbformat_minor": 2
}
