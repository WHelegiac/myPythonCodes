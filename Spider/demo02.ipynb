{
 "cells": [
  {
   "cell_type": "code",
   "execution_count": null,
   "metadata": {},
   "outputs": [],
   "source": [
    "import requests\n",
    "\n",
    "\n",
    "url = \"https://baike.baidu.com/item/%E4%B8%83%E6%98%9F%E5%B2%97%E8%A1%97%E9%81%93\"\n",
    "\n",
    "nre_url = \"https://baike.baidu.com/item/%E6%B5%B7%E6%A3%A0%E6%BA%AA%E8%A1%97%E9%81%93\"\n",
    "\n",
    "header = {\n",
    "    \"User-Agent\" : \"'Mozilla/5.0 (Windows NT 10.0; Win64; x64) AppleWebKit/537.36 (KHTML, like Gecko) Chrome/98.0.4758.102 Safari/537.36'\"\n",
    "}\n",
    "\n",
    "res = requests.get(url=url, headers= header)\n",
    "    \n",
    "with open(\"./HTML/七星岗街道百度百科.html\",'w') as file:\n",
    "    file.write(res.content.decode())"
   ]
  },
  {
   "cell_type": "markdown",
   "metadata": {},
   "source": [
    "/html/body[@class='wiki-lemma neweditor normal']/div[@class='body-wrapper']/div[@class='content-wrapper']/div[@class='content']/div[@class='main-content J-content']/table/tbody/tr[2]/td[3]/div[@class='para']"
   ]
  },
  {
   "cell_type": "markdown",
   "metadata": {},
   "source": [
    "/html/body[@class='wiki-lemma neweditor normal']/div[@class='body-wrapper']/div[@class='content-wrapper']/div[@class='content']/div[@class='main-content J-content']/table/tbody/tr[2]/td[3]/div[@class='para']"
   ]
  },
  {
   "cell_type": "code",
   "execution_count": null,
   "metadata": {},
   "outputs": [],
   "source": [
    "from bs4 import BeautifulSoup\n",
    "\n",
    "with open(\"./TestHTML/九龙镇.html\") as file:\n",
    "    html = file.read()\n",
    "\n",
    "bs = BeautifulSoup(html,'html.parser')\n",
    "table = bs.find('table',{\n",
    "    \"log-set-param\":\"table_view\",\n",
    "    \"data-sort\":\"sortDisabled\"\n",
    "})\n",
    "\n",
    "children = table.contents\n",
    "\n",
    "for index,child in enumerate(children):\n",
    "    if index == 0:\n",
    "        continue\n",
    "    trs = child.contents\n",
    "    if len(trs) == 3:\n",
    "        print(trs[2].string,'\\n')\n",
    "    elif len(trs) == 2:\n",
    "        print(trs[0].string,trs[1].string,'\\n')\n",
    "        \n",
    "\n",
    "# for child in children:\n",
    "#     trs = child.contents\n",
    "    \n",
    "#     print(\"长度：\",len(trs),trs[0].string,'\\n','-----------------------------','\\n')"
   ]
  },
  {
   "cell_type": "code",
   "execution_count": 47,
   "metadata": {},
   "outputs": [
    {
     "name": "stdout",
     "output_type": "stream",
     "text": [
      "截至2020年6月，春晖路街道下辖9个社区：柏华社区、新华社区、阳光社区、松青路社区、锦凤社区、锦城社区、翠华社区、锦愉社区、古渡社区，\n"
     ]
    }
   ],
   "source": [
    "from bs4 import BeautifulSoup\n",
    "import re\n",
    "\n",
    "with open(\"./TestHTML/春晖路街道.html\") as file:\n",
    "    html = file.read()\n",
    "\n",
    "bs = BeautifulSoup(html,'html.parser')\n",
    "\n",
    "goal_strs = bs.find_all(string = re.compile(\"截至2020年6月，\"))\n",
    "\n",
    "print(goal_strs[1])\n"
   ]
  }
 ],
 "metadata": {
  "interpreter": {
   "hash": "a6e944699bf9c0f5da2073125e717654b7a0a4b9e7784affecc55ebea1d3b89d"
  },
  "kernelspec": {
   "display_name": "Python 3.8.10 64-bit",
   "language": "python",
   "name": "python3"
  },
  "language_info": {
   "codemirror_mode": {
    "name": "ipython",
    "version": 3
   },
   "file_extension": ".py",
   "mimetype": "text/x-python",
   "name": "python",
   "nbconvert_exporter": "python",
   "pygments_lexer": "ipython3",
   "version": "3.8.10"
  },
  "orig_nbformat": 4
 },
 "nbformat": 4,
 "nbformat_minor": 2
}
