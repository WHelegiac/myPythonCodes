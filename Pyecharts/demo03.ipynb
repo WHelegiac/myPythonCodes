{
 "cells": [
  {
   "cell_type": "code",
   "execution_count": 66,
   "metadata": {},
   "outputs": [],
   "source": [
    "# from pyecharts.charts import *\n",
    "# from pyecharts.components import Table\n",
    "# from pyecharts import options as opts\n",
    "# from pyecharts.commons.utils import JsCode\n",
    "# import random\n",
    "# import datetime\n",
    "# import pandas as pd"
   ]
  },
  {
   "cell_type": "code",
   "execution_count": null,
   "metadata": {},
   "outputs": [],
   "source": [
    "# from pyecharts.globals import CurrentConfig\n",
    "\n",
    "# CurrentConfig.ONLINE_HOST = \"https://cdn.kesci.com/lib/pyecharts_assets/\""
   ]
  },
  {
   "cell_type": "code",
   "execution_count": 67,
   "metadata": {},
   "outputs": [],
   "source": [
    "from pyecharts.charts import Bar\n",
    "from pyecharts import options as opts\n",
    "\n",
    "# 导入输出图片工具\n",
    "from pyecharts.render import make_snapshot\n",
    "# 使用snapshot-selenium 渲染图片\n",
    "from snapshot_selenium import snapshot\n",
    "\n",
    "\n",
    "\n",
    "# 创建一个柱状图Bar实例\n",
    "\n",
    "bar = (\n",
    "    Bar()\n",
    "    # 添加X轴数据\n",
    "    .add_xaxis([\"衬衫\", \"羊毛衫\", \"雪纺衫\", \"裤子\", \"高跟鞋\", \"袜子\"])\n",
    "    # 添加Y轴数据,系列的名称\n",
    "    .add_yaxis(\"商家A\", [5, 20, 36, 10, 75, 90])\n",
    "    .add_yaxis(\"商家B\", [8, 15, 60, 20, 25, 30])\n",
    "    # 添加标题\n",
    "    .set_global_opts(title_opts=opts.TitleOpts(title=\"主标题: 双十一销量\", subtitle=\"副标题:服饰类\"))\n",
    ")\n",
    "\n",
    "# 输出保存为图片\n",
    "make_snapshot(snapshot, bar.render(), \"003_Options配置项_自定义样式_保存图片.png\")\n"
   ]
  },
  {
   "cell_type": "markdown",
   "metadata": {},
   "source": [
    "数据处理\n",
    "1)数据收集\n",
    "    每次进行实地调研当天晚上就会查看问卷星问卷填写情况\n",
    "    先根据问题之间的关联性（如每年体检的项目和消费）以及用时来初步筛选其重明显不合理地的问卷\n",
    "    筛查出的无效问卷在后台删除\n",
    "    将有效问卷导出excel进行备份\n",
    "2)数据筛查\n",
    "    在前面粗略地筛查后,团队分工合作,采用逻辑验证法,对选项之间的逻辑进行归纳,逐个问卷地判断数据是否有效,并最后删除无效地问卷\n",
    "3)数据录入\n",
    "    将问卷星中的数据导出合成一份excel文件,然后将通过python的pandas和R语言读取\n",
    "4)数据清洗\n",
    "    python:通过python第三方开源库pandas提供的api对数据进行分组,聚合,透视,然后绘制成有必要的图表。\n",
    "    R:\n"
   ]
  }
 ],
 "metadata": {
  "interpreter": {
   "hash": "a6e944699bf9c0f5da2073125e717654b7a0a4b9e7784affecc55ebea1d3b89d"
  },
  "kernelspec": {
   "display_name": "Python 3.8.10 64-bit",
   "language": "python",
   "name": "python3"
  },
  "language_info": {
   "codemirror_mode": {
    "name": "ipython",
    "version": 3
   },
   "file_extension": ".py",
   "mimetype": "text/x-python",
   "name": "python",
   "nbconvert_exporter": "python",
   "pygments_lexer": "ipython3",
   "version": "3.8.10"
  },
  "orig_nbformat": 4
 },
 "nbformat": 4,
 "nbformat_minor": 2
}
