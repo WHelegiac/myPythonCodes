{
 "cells": [
  {
   "cell_type": "code",
   "execution_count": 2,
   "metadata": {},
   "outputs": [],
   "source": [
    "from pyecharts.globals import CurrentConfig, OnlineHostType \n",
    "import pandas as pd\n",
    "import random\n",
    "\n",
    "from pyecharts.charts import *\n",
    "from pyecharts.components import Table\n",
    "from pyecharts import  options as opts\n",
    "from pyecharts.commons.utils import JsCode\n",
    "import datetime\n",
    "import string\n",
    "\n"
   ]
  },
  {
   "cell_type": "code",
   "execution_count": 3,
   "metadata": {},
   "outputs": [],
   "source": [
    "data = pd.read_excel(\"./Data/newdata.xlsx\")\n"
   ]
  },
  {
   "cell_type": "code",
   "execution_count": 11,
   "metadata": {},
   "outputs": [
    {
     "data": {
      "text/plain": [
       "1    218\n",
       "2    105\n",
       "3     96\n",
       "4     55\n",
       "5     44\n",
       "6     37\n",
       "Name: age, dtype: int64"
      ]
     },
     "execution_count": 11,
     "metadata": {},
     "output_type": "execute_result"
    }
   ],
   "source": []
  },
  {
   "cell_type": "code",
   "execution_count": 16,
   "metadata": {},
   "outputs": [
    {
     "name": "stdout",
     "output_type": "stream",
     "text": [
      "[218, 105, 96, 55, 44, 37]\n"
     ]
    },
    {
     "data": {
      "text/html": [
       "\n",
       "<script>\n",
       "    require.config({\n",
       "        paths: {\n",
       "            'echarts':'https://assets.pyecharts.org/assets/echarts.min'\n",
       "        }\n",
       "    });\n",
       "</script>\n",
       "\n",
       "        <div id=\"61f8e12960e24c6eb997fde6e2152470\" style=\"width:900px; height:500px;\"></div>\n",
       "\n",
       "<script>\n",
       "        require(['echarts'], function(echarts) {\n",
       "                var chart_61f8e12960e24c6eb997fde6e2152470 = echarts.init(\n",
       "                    document.getElementById('61f8e12960e24c6eb997fde6e2152470'), 'white', {renderer: 'canvas'});\n",
       "                var option_61f8e12960e24c6eb997fde6e2152470 = {\n",
       "    \"animation\": true,\n",
       "    \"animationThreshold\": 2000,\n",
       "    \"animationDuration\": 1000,\n",
       "    \"animationEasing\": \"cubicOut\",\n",
       "    \"animationDelay\": 0,\n",
       "    \"animationDurationUpdate\": 300,\n",
       "    \"animationEasingUpdate\": \"cubicOut\",\n",
       "    \"animationDelayUpdate\": 0,\n",
       "    \"color\": [\n",
       "        \"#c23531\",\n",
       "        \"#2f4554\",\n",
       "        \"#61a0a8\",\n",
       "        \"#d48265\",\n",
       "        \"#749f83\",\n",
       "        \"#ca8622\",\n",
       "        \"#bda29a\",\n",
       "        \"#6e7074\",\n",
       "        \"#546570\",\n",
       "        \"#c4ccd3\",\n",
       "        \"#f05b72\",\n",
       "        \"#ef5b9c\",\n",
       "        \"#f47920\",\n",
       "        \"#905a3d\",\n",
       "        \"#fab27b\",\n",
       "        \"#2a5caa\",\n",
       "        \"#444693\",\n",
       "        \"#726930\",\n",
       "        \"#b2d235\",\n",
       "        \"#6d8346\",\n",
       "        \"#ac6767\",\n",
       "        \"#1d953f\",\n",
       "        \"#6950a1\",\n",
       "        \"#918597\"\n",
       "    ],\n",
       "    \"series\": [\n",
       "        {\n",
       "            \"type\": \"pie\",\n",
       "            \"clockwise\": true,\n",
       "            \"data\": [\n",
       "                {\n",
       "                    \"name\": \"18~25\\u4e4b\\u95f4\",\n",
       "                    \"value\": null\n",
       "                },\n",
       "                {\n",
       "                    \"name\": \"26~30\\u4e4b\\u95f4\",\n",
       "                    \"value\": null\n",
       "                },\n",
       "                {\n",
       "                    \"name\": \"31~40\\u4e4b\\u95f4\",\n",
       "                    \"value\": null\n",
       "                },\n",
       "                {\n",
       "                    \"name\": \"41~50\\u4e4b\\u95f4\",\n",
       "                    \"value\": null\n",
       "                },\n",
       "                {\n",
       "                    \"name\": \"51~60\\u4e4b\\u95f4\",\n",
       "                    \"value\": null\n",
       "                },\n",
       "                {\n",
       "                    \"name\": \"60\\u4ee5\\u4e0a\",\n",
       "                    \"value\": null\n",
       "                }\n",
       "            ],\n",
       "            \"radius\": [\n",
       "                \"0%\",\n",
       "                \"75%\"\n",
       "            ],\n",
       "            \"center\": [\n",
       "                \"50%\",\n",
       "                \"50%\"\n",
       "            ],\n",
       "            \"label\": {\n",
       "                \"show\": true,\n",
       "                \"position\": \"top\",\n",
       "                \"margin\": 8\n",
       "            }\n",
       "        }\n",
       "    ],\n",
       "    \"legend\": [\n",
       "        {\n",
       "            \"data\": [\n",
       "                \"18~25\\u4e4b\\u95f4\",\n",
       "                \"26~30\\u4e4b\\u95f4\",\n",
       "                \"31~40\\u4e4b\\u95f4\",\n",
       "                \"41~50\\u4e4b\\u95f4\",\n",
       "                \"51~60\\u4e4b\\u95f4\",\n",
       "                \"60\\u4ee5\\u4e0a\"\n",
       "            ],\n",
       "            \"selected\": {}\n",
       "        }\n",
       "    ],\n",
       "    \"tooltip\": {\n",
       "        \"show\": true,\n",
       "        \"trigger\": \"item\",\n",
       "        \"triggerOn\": \"mousemove|click\",\n",
       "        \"axisPointer\": {\n",
       "            \"type\": \"line\"\n",
       "        },\n",
       "        \"showContent\": true,\n",
       "        \"alwaysShowContent\": false,\n",
       "        \"showDelay\": 0,\n",
       "        \"hideDelay\": 100,\n",
       "        \"textStyle\": {\n",
       "            \"fontSize\": 14\n",
       "        },\n",
       "        \"borderWidth\": 0,\n",
       "        \"padding\": 5\n",
       "    }\n",
       "};\n",
       "                chart_61f8e12960e24c6eb997fde6e2152470.setOption(option_61f8e12960e24c6eb997fde6e2152470);\n",
       "        });\n",
       "    </script>\n"
      ],
      "text/plain": [
       "<pyecharts.render.display.HTML at 0x2a7e48fc400>"
      ]
     },
     "execution_count": 16,
     "metadata": {},
     "output_type": "execute_result"
    }
   ],
   "source": [
    "# x = [\"18~25之间\", \"26~30之间\", \"31~40之间\", \"41~50之间\", \"51~60之间\", \"60以上\"]\n",
    "\n",
    "# y = list(dict(data[\"age\"].value_counts()).values())\n",
    "\n",
    "# print(y)\n",
    "\n",
    "# pie = Pie().add('', [list(z) for z in zip(x, y)])\n",
    "       \n",
    "\n",
    "# pie.render_notebook()\n"
   ]
  },
  {
   "cell_type": "code",
   "execution_count": 3,
   "metadata": {},
   "outputs": [
    {
     "name": "stdout",
     "output_type": "stream",
     "text": [
      "['KBDyo', 'YNOLp', 'DwXhf', 'GTZkj', 'whHjF', 'CfROU', 'JdzQg', 'wYyra', 'pvAEU', 'xHWib']\n",
      "[8980, 1009, 1188, 8320, 6549, 915, 1848, 1791, 8769, 7846]\n"
     ]
    },
    {
     "data": {
      "text/plain": [
       "'d:\\\\my_python_codes\\\\Pyecharts\\\\new.png'"
      ]
     },
     "execution_count": 3,
     "metadata": {},
     "output_type": "execute_result"
    }
   ],
   "source": [
    "\n",
    "# x = [''.join(random.sample(string.ascii_letters,5)) for _ in range(10)]\n",
    "\n",
    "# y = [random.randint(0,10000) for _ in range(10)]\n",
    "\n",
    "# print(x)\n",
    "# print(y)\n",
    "\n",
    "# pie = Pie().add('',[list(z) for z in zip(x,y)]).set_series_opts(label_opts=opts.LabelOpts(formatter=\"{b}: {d}%\"))\n",
    "\n",
    "\n",
    "# pie.render(path=\"./new.png\")"
   ]
  }
 ],
 "metadata": {
  "interpreter": {
   "hash": "a6e944699bf9c0f5da2073125e717654b7a0a4b9e7784affecc55ebea1d3b89d"
  },
  "kernelspec": {
   "display_name": "Python 3.8.10 64-bit",
   "language": "python",
   "name": "python3"
  },
  "language_info": {
   "codemirror_mode": {
    "name": "ipython",
    "version": 3
   },
   "file_extension": ".py",
   "mimetype": "text/x-python",
   "name": "python",
   "nbconvert_exporter": "python",
   "pygments_lexer": "ipython3",
   "version": "3.8.10"
  },
  "orig_nbformat": 4
 },
 "nbformat": 4,
 "nbformat_minor": 2
}
