{
 "cells": [
  {
   "cell_type": "code",
   "execution_count": null,
   "metadata": {},
   "outputs": [],
   "source": [
    "import multiprocessing\n",
    "import os\n",
    "import time"
   ]
  },
  {
   "cell_type": "code",
   "execution_count": 9,
   "metadata": {},
   "outputs": [],
   "source": [
    "cnt = 0\n",
    "\n",
    "def consumer():\n",
    "    global cnt\n",
    "    while True:\n",
    "        if cnt <= 0:\n",
    "            time.sleep(1)\n",
    "            continue\n",
    "        cnt -= 1\n",
    "        print(f\"I am a consumer, cnt = {cnt} and process id is{os.getpid()}\")\n",
    "        \n",
    "def producer():\n",
    "    global cnt\n",
    "    while True:\n",
    "        cnt += 1\n",
    "        print(\"I am a producer ,cnt = {cnt} and process id is{os.getpid()}\")\n",
    "        cnt += 1\n",
    "\n",
    "if __name__ == \"__main__\":        \n",
    "\n",
    "\n",
    "    pro1 = multiprocessing.Process(target=consumer)\n",
    "    pro2 = multiprocessing.Process(target=producer)\n",
    "\n",
    "    pro1.start()\n",
    "    pro2.start()\n",
    "      "
   ]
  },
  {
   "cell_type": "code",
   "execution_count": 10,
   "metadata": {},
   "outputs": [],
   "source": [
    "\n",
    "def consumer(queue):\n",
    "    while True:\n",
    "        cnt = queue.get()\n",
    "        print(f\"I am a consmer, cnt = {cnt} and process id = {os.getpid()}\")\n",
    "        time.sleep(1)\n",
    "\n",
    "\n",
    "def producer(queue):\n",
    "    while True:\n",
    "        queue.put(cnt)\n",
    "        print(f\"I am a producer ,cnt = {cnt} and process id is{os.getpid()}\")\n",
    "        time.sleep(1)\n",
    "        cnt += 1\n",
    "\n",
    "\n",
    "queue = multiprocessing.Queue()\n",
    "pro1 = multiprocessing.Process(target=producer, args=(queue,))\n",
    "pro2 = multiprocessing.Process(target=consumer, args=(queue,))\n",
    "\n",
    "pro1.start()\n",
    "pro2.start()\n"
   ]
  }
 ],
 "metadata": {
  "interpreter": {
   "hash": "cbd36271b14161e816249ef302914b36ea00e417f0243174c8de0dd9cab2f8e6"
  },
  "kernelspec": {
   "display_name": "Python 3.9.7 ('base')",
   "language": "python",
   "name": "python3"
  },
  "language_info": {
   "codemirror_mode": {
    "name": "ipython",
    "version": 3
   },
   "file_extension": ".py",
   "mimetype": "text/x-python",
   "name": "python",
   "nbconvert_exporter": "python",
   "pygments_lexer": "ipython3",
   "version": "3.9.7"
  },
  "orig_nbformat": 4
 },
 "nbformat": 4,
 "nbformat_minor": 2
}
