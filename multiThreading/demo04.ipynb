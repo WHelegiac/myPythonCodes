{
 "cells": [
  {
   "cell_type": "code",
   "execution_count": 2,
   "outputs": [
    {
     "ename": "AttributeError",
     "evalue": "type object 'Account' has no attribute 'Account'",
     "output_type": "error",
     "traceback": [
      "\u001B[1;31m---------------------------------------------------------------------------\u001B[0m",
      "\u001B[1;31mAttributeError\u001B[0m                            Traceback (most recent call last)",
      "\u001B[1;32m~\\AppData\\Local\\Temp/ipykernel_96564/2100377633.py\u001B[0m in \u001B[0;36m<module>\u001B[1;34m\u001B[0m\n\u001B[0;32m     65\u001B[0m         \u001B[0maccount\u001B[0m\u001B[1;33m.\u001B[0m\u001B[0mdeposit\u001B[0m\u001B[1;33m(\u001B[0m\u001B[0mdeposit_amount\u001B[0m\u001B[1;33m)\u001B[0m\u001B[1;33m\u001B[0m\u001B[1;33m\u001B[0m\u001B[0m\n\u001B[0;32m     66\u001B[0m \u001B[1;31m# 创建一个账户\u001B[0m\u001B[1;33m\u001B[0m\u001B[1;33m\u001B[0m\u001B[0m\n\u001B[1;32m---> 67\u001B[1;33m \u001B[0macct\u001B[0m \u001B[1;33m=\u001B[0m \u001B[0mAccount\u001B[0m\u001B[1;33m.\u001B[0m\u001B[0mAccount\u001B[0m\u001B[1;33m(\u001B[0m\u001B[1;34m\"1234567\"\u001B[0m \u001B[1;33m,\u001B[0m \u001B[1;36m0\u001B[0m\u001B[1;33m)\u001B[0m\u001B[1;33m\u001B[0m\u001B[1;33m\u001B[0m\u001B[0m\n\u001B[0m\u001B[0;32m     68\u001B[0m \u001B[1;31m# 创建、并启动一个“取钱”线程\u001B[0m\u001B[1;33m\u001B[0m\u001B[1;33m\u001B[0m\u001B[0m\n\u001B[0;32m     69\u001B[0m threading.Thread(name=\"取钱者\", target=draw_many,\n",
      "\u001B[1;31mAttributeError\u001B[0m: type object 'Account' has no attribute 'Account'"
     ]
    }
   ],
   "source": [
    "import threading\n",
    "\n",
    "class Account:\n",
    "    # 定义构造器\n",
    "    def __init__(self, account_no, balance):\n",
    "        # 封装账户编号、账户余额的两个成员变量\n",
    "        self.account_no = account_no\n",
    "        self._balance = balance\n",
    "        self.cond = threading.Condition()\n",
    "        # 定义代表是否已经存钱的旗标\n",
    "        self._flag = False\n",
    "\n",
    "    # 因为账户余额不允许随便修改，所以只为self._balance提供getter方法\n",
    "    def getBalance(self):\n",
    "        return self._balance\n",
    "    # 提供一个线程安全的draw()方法来完成取钱操作\n",
    "    def draw(self, draw_amount):\n",
    "        # 加锁,相当于调用Condition绑定的Lock的acquire()\n",
    "        self.cond.acquire()\n",
    "        try:\n",
    "            # 如果self._flag为假，表明账户中还没有人存钱进去，取钱方法阻塞\n",
    "            if not self._flag:\n",
    "                self.cond.wait()\n",
    "            else:\n",
    "                # 执行取钱操作\n",
    "                print(threading.current_thread().name\n",
    "                    + \" 取钱:\" +  str(draw_amount))\n",
    "                self._balance -= draw_amount\n",
    "                print(\"账户余额为：\" + str(self._balance))\n",
    "                # 将标识账户是否已有存款的旗标设为False\n",
    "                self._flag = False\n",
    "                # 唤醒其他线程\n",
    "                self.cond.notify_all()\n",
    "        # 使用finally块来释放锁\n",
    "        finally:\n",
    "            self.cond.release()\n",
    "    def deposit(self, deposit_amount):\n",
    "        # 加锁,相当于调用Condition绑定的Lock的acquire()\n",
    "        self.cond.acquire()\n",
    "        try:\n",
    "            # 如果self._flag为真，表明账户中已有人存钱进去，存钱方法阻塞\n",
    "            if self._flag:            # ①\n",
    "                self.cond.wait()\n",
    "            else:\n",
    "                # 执行存款操作\n",
    "                print(threading.current_thread().name\\\n",
    "                    + \" 存款:\" +  str(deposit_amount))\n",
    "                self._balance += deposit_amount\n",
    "                print(\"账户余额为：\" + str(self._balance))\n",
    "                # 将表示账户是否已有存款的旗标设为True\n",
    "                self._flag = True\n",
    "                # 唤醒其他线程\n",
    "                self.cond.notify_all()\n",
    "        # 使用finally块来释放锁\n",
    "        finally:\n",
    "            self.cond.release()\n",
    "\n",
    "#  定义一个函数，模拟重复max次执行取钱操作\n",
    "def draw_many(account, draw_amount, max):\n",
    "    for i in range(max):\n",
    "        account.draw(draw_amount)\n",
    "#  定义一个函数，模拟重复max次执行存款操作\n",
    "def deposit_many(account, deposit_amount, max):\n",
    "    for i in range(max):\n",
    "        account.deposit(deposit_amount)\n",
    "# 创建一个账户\n",
    "acct = Account.Account(\"1234567\" , 0)\n",
    "# 创建、并启动一个“取钱”线程\n",
    "threading.Thread(name=\"取钱者\", target=draw_many,\n",
    "    args=(acct, 800, 100)).start()\n",
    "# 创建、并启动一个“存款”线程\n",
    "threading.Thread(name=\"存款者甲\", target=deposit_many,\n",
    "    args=(acct , 800, 100)).start();\n",
    "threading.Thread(name=\"存款者乙\", target=deposit_many,\n",
    "    args=(acct , 800, 100)).start()\n",
    "threading.Thread(name=\"存款者丙\", target=deposit_many,\n",
    "    args=(acct , 800, 100)).start()"
   ],
   "metadata": {
    "collapsed": false,
    "pycharm": {
     "name": "#%%\n"
    }
   }
  }
 ],
 "metadata": {
  "interpreter": {
   "hash": "cbd36271b14161e816249ef302914b36ea00e417f0243174c8de0dd9cab2f8e6"
  },
  "kernelspec": {
   "display_name": "Python 3.9.7 64-bit ('base': conda)",
   "language": "python",
   "name": "python3"
  },
  "language_info": {
   "codemirror_mode": {
    "name": "ipython",
    "version": 3
   },
   "file_extension": ".py",
   "mimetype": "text/x-python",
   "name": "python",
   "nbconvert_exporter": "python",
   "pygments_lexer": "ipython3",
   "version": "3.9.7"
  },
  "orig_nbformat": 4
 },
 "nbformat": 4,
 "nbformat_minor": 2
}