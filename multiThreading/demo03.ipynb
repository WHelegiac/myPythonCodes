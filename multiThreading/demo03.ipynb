{
 "cells": [
  {
   "cell_type": "code",
   "execution_count": null,
   "metadata": {},
   "outputs": [],
   "source": [
    "import dis\n",
    "\n",
    "def addOne(a):\n",
    "    a = a + 1\n",
    "    return a\n",
    "\n",
    "print(dis.dis(addOne))"
   ]
  },
  {
   "cell_type": "code",
   "execution_count": null,
   "metadata": {},
   "outputs": [],
   "source": [
    "total = 0\n",
    "\n",
    "def add():\n",
    "    global total\n",
    "    for i  in range(1000000):\n",
    "        total += 1\n",
    "        \n",
    "def desc():\n",
    "    global total\n",
    "    for i in range(1000000):\n",
    "        total -= 1\n",
    "\n",
    "        "
   ]
  }
 ],
 "metadata": {
  "interpreter": {
   "hash": "cbd36271b14161e816249ef302914b36ea00e417f0243174c8de0dd9cab2f8e6"
  },
  "kernelspec": {
   "display_name": "Python 3.9.7 64-bit ('base': conda)",
   "language": "python",
   "name": "python3"
  },
  "language_info": {
   "codemirror_mode": {
    "name": "ipython",
    "version": 3
   },
   "file_extension": ".py",
   "mimetype": "text/x-python",
   "name": "python",
   "nbconvert_exporter": "python",
   "pygments_lexer": "ipython3",
   "version": "3.9.7"
  },
  "orig_nbformat": 4
 },
 "nbformat": 4,
 "nbformat_minor": 2
}
