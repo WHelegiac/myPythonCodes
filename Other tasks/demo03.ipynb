{
 "cells": [
  {
   "cell_type": "code",
   "execution_count": 6,
   "metadata": {},
   "outputs": [],
   "source": [
    "import json\n",
    "with open(\"./toBeCanceled.txt\") as file:\n",
    "    lines = file.readlines()\n",
    "    vertexsList = []\n",
    "    for line in lines:\n",
    "        line = line.strip()\n",
    "        vertex = int(line.split(\" \")[1].split('-')[1])\n",
    "        vertexsList.append(vertex)\n",
    "    goalFile = open(\"./goal.json\",'w')\n",
    "    json.dump(vertexsList,goalFile)\n",
    "    goalFile.close()\n",
    "        \n",
    "        \n",
    "        "
   ]
  }
 ],
 "metadata": {
  "interpreter": {
   "hash": "cbd36271b14161e816249ef302914b36ea00e417f0243174c8de0dd9cab2f8e6"
  },
  "kernelspec": {
   "display_name": "Python 3.8.8 64-bit ('base': conda)",
   "language": "python",
   "name": "python3"
  },
  "language_info": {
   "codemirror_mode": {
    "name": "ipython",
    "version": 3
   },
   "file_extension": ".py",
   "mimetype": "text/x-python",
   "name": "python",
   "nbconvert_exporter": "python",
   "pygments_lexer": "ipython3",
   "version": "3.8.8"
  },
  "orig_nbformat": 4
 },
 "nbformat": 4,
 "nbformat_minor": 2
}
