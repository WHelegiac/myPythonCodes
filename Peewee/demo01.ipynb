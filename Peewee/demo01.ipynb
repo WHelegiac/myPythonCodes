{
 "cells": [
  {
   "cell_type": "code",
   "execution_count": 3,
   "metadata": {},
   "outputs": [],
   "source": [
    "import datetime\n",
    "from peewee import *\n",
    "import random\n",
    "import string\n",
    "\n",
    "db = MySQLDatabase(\n",
    "    'test_one',\n",
    "    host='121.5.111.160',\n",
    "    user='root',\n",
    "    passwd='wojiaoWanHao123',\n",
    ")\n",
    "\n",
    "\n",
    "class User(Model):\n",
    "    username = CharField(unique=True)\n",
    "    age = IntegerField(default=18, null=False,verbose_name= \"年龄\")\n",
    "    sex = BooleanField(default=18,null=False,verbose_name=\"性别\")\n",
    "    class Meta:\n",
    "        database = db\n",
    "\n",
    "\n",
    "class Tweet(Model):\n",
    "    user = ForeignKeyField(User, backref='tweets')\n",
    "    message = TextField()\n",
    "    create_date = DateTimeField(default=datetime.datetime.now)\n",
    "    is_published = BooleanField(default=True)\n",
    "\n",
    "    class Meta:\n",
    "        database = db\n",
    "\n",
    "db.connect()\n",
    "db.create_tables([User, Tweet])"
   ]
  },
  {
   "cell_type": "code",
   "execution_count": null,
   "metadata": {},
   "outputs": [],
   "source": []
  },
  {
   "cell_type": "code",
   "execution_count": 4,
   "metadata": {},
   "outputs": [],
   "source": [
    "users = User.get(User.id % 3 == 0)\n",
    "sql = users.delete_instance()\n",
    "\n",
    "#sql.execute()"
   ]
  },
  {
   "cell_type": "code",
   "execution_count": 22,
   "metadata": {},
   "outputs": [
    {
     "name": "stdout",
     "output_type": "stream",
     "text": [
      "{'age': 19}\n"
     ]
    },
    {
     "data": {
      "text/plain": [
       "<peewee.ModelSelect at 0x18e4d9a7a90>"
      ]
     },
     "execution_count": 22,
     "metadata": {},
     "output_type": "execute_result"
    }
   ],
   "source": [
    "query = User.select().select(fn.MAX(User.age))\n",
    "\n",
    "\n",
    "for user in query.dicts():\n",
    "    print(user)\n",
    "\n",
    "query\n",
    "#query.sql()"
   ]
  },
  {
   "cell_type": "markdown",
   "metadata": {},
   "source": []
  }
 ],
 "metadata": {
  "interpreter": {
   "hash": "a6e944699bf9c0f5da2073125e717654b7a0a4b9e7784affecc55ebea1d3b89d"
  },
  "kernelspec": {
   "display_name": "Python 3.8.10 64-bit",
   "language": "python",
   "name": "python3"
  },
  "language_info": {
   "codemirror_mode": {
    "name": "ipython",
    "version": 3
   },
   "file_extension": ".py",
   "mimetype": "text/x-python",
   "name": "python",
   "nbconvert_exporter": "python",
   "pygments_lexer": "ipython3",
   "version": "3.8.10"
  },
  "orig_nbformat": 4
 },
 "nbformat": 4,
 "nbformat_minor": 2
}
