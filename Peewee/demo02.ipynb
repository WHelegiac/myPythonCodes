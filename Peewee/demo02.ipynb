{
 "cells": [
  {
   "cell_type": "code",
   "execution_count": null,
   "metadata": {},
   "outputs": [],
   "source": [
    "import datetime\n",
    "from peewee import *\n",
    "import random\n",
    "import string\n"
   ]
  },
  {
   "cell_type": "code",
   "execution_count": null,
   "metadata": {},
   "outputs": [],
   "source": [
    "db = MySQLDatabase(\n",
    "    'test_one',\n",
    "    host='121.5.111.160',\n",
    "    user='root',\n",
    "    passwd='wojiaoWanHao123',\n",
    ")\n"
   ]
  },
  {
   "cell_type": "code",
   "execution_count": null,
   "metadata": {},
   "outputs": [],
   "source": [
    "class BaseModel(Model):\n",
    "    add_time = DateField(default=datetime.datetime.now, verbose_name=\"添加时间\")\n",
    "\n",
    "    class Meta:\n",
    "        database = db\n",
    "\n",
    "\n",
    "class Person(BaseModel):\n",
    "    name = CharField(verbose_name=\"姓名\", max_length=10, null=False, index=True)\n",
    "    passwd = CharField(verbose_name=\"密码\", max_length=20,\n",
    "                       null=False, default='abcd123')\n",
    "    email = CharField(verbose_name=\"电子邮箱\", max_length=50,\n",
    "                      null=True, unique=True)\n",
    "    gender = BooleanField(verbose_name=\"性别:男1女0\", null=False)\n",
    "    birthday = DateField(verbose_name=\"出生日期\", null=True, default=None)\n",
    "    is_admin = BooleanField(verbose_name=\"是不是管理员\", default=False)\n",
    "\n",
    "    class Meta:\n",
    "        table_name = \"persons\"\n",
    "\n",
    "\n",
    "class User(Model):\n",
    "    username = CharField(unique=True)\n",
    "    age = IntegerField(default=18, null=False, verbose_name=\"年龄\")\n",
    "    sex = BooleanField(default=18, null=False, verbose_name=\"性别\")\n",
    "\n",
    "    class Meta:\n",
    "        database = db\n"
   ]
  },
  {
   "cell_type": "code",
   "execution_count": null,
   "metadata": {},
   "outputs": [],
   "source": [
    "db.connect()\n",
    "#db.create_tables([Person])\n"
   ]
  },
  {
   "cell_type": "code",
   "execution_count": null,
   "metadata": {},
   "outputs": [],
   "source": [
    "id = Person.insert({\n",
    "    'name' : \"Wan\" + \n",
    "    'passwd' : ''.join(random.sample(string.ascii_letters,10)),\n",
    "    'email' : ''.join(random.sample(string.ascii_letters,10)) + \"@163.com\",\n",
    "    'gender' : random.choice([True,False]),\n",
    "    #'birthday' : datetime.date.today(),\n",
    "    'is_admin' : random.choice([True,False])\n",
    "}).execute()"
   ]
  },
  {
   "cell_type": "code",
   "execution_count": null,
   "metadata": {},
   "outputs": [],
   "source": [
    "print(random.choice([True,False]))"
   ]
  },
  {
   "cell_type": "code",
   "execution_count": 47,
   "metadata": {},
   "outputs": [
    {
     "name": "stdout",
     "output_type": "stream",
     "text": [
      "(0, '')\n"
     ]
    },
    {
     "ename": "NameError",
     "evalue": "name 'person' is not defined",
     "output_type": "error",
     "traceback": [
      "\u001b[1;31m---------------------------------------------------------------------------\u001b[0m",
      "\u001b[1;31mNameError\u001b[0m                                 Traceback (most recent call last)",
      "\u001b[1;32md:\\my_python_codes\\Peewee\\demo02.ipynb Cell 7'\u001b[0m in \u001b[0;36m<module>\u001b[1;34m\u001b[0m\n\u001b[0;32m     <a href='vscode-notebook-cell:/d%3A/my_python_codes/Peewee/demo02.ipynb#ch0000007?line=10'>11</a>\u001b[0m \u001b[39mexcept\u001b[39;00m \u001b[39mException\u001b[39;00m \u001b[39mas\u001b[39;00m e:\n\u001b[0;32m     <a href='vscode-notebook-cell:/d%3A/my_python_codes/Peewee/demo02.ipynb#ch0000007?line=11'>12</a>\u001b[0m     \u001b[39mprint\u001b[39m(e)\n\u001b[1;32m---> <a href='vscode-notebook-cell:/d%3A/my_python_codes/Peewee/demo02.ipynb#ch0000007?line=13'>14</a>\u001b[0m \u001b[39mprint\u001b[39m(person\u001b[39m.\u001b[39m__sql__)\n",
      "\u001b[1;31mNameError\u001b[0m: name 'person' is not defined"
     ]
    }
   ],
   "source": [
    "\n",
    "# try :\n",
    "#     person = Person.create(\n",
    "#     id = 100,\n",
    "#     name = ''.join(random.sample(string.ascii_letters,3)),\n",
    "#     passwd = ''.join(random.sample(string.ascii_letters,10)),\n",
    "#     email = ''.join(random.sample(string.ascii_letters,10)) + \"@163.com\",\n",
    "#     gender = random.choice([True,False]),\n",
    "#     birthday = datetime.date.today(),\n",
    "#     is_admin = random.choice([True,False])\n",
    "# )\n",
    "# except Exception as e:\n",
    "#     print(e)\n",
    "\n",
    "# print(person.__sql__)"
   ]
  },
  {
   "cell_type": "code",
   "execution_count": null,
   "metadata": {},
   "outputs": [],
   "source": []
  },
  {
   "cell_type": "code",
   "execution_count": 48,
   "metadata": {},
   "outputs": [
    {
     "ename": "InterfaceError",
     "evalue": "(0, '')",
     "output_type": "error",
     "traceback": [
      "\u001b[1;31m---------------------------------------------------------------------------\u001b[0m",
      "\u001b[1;31mInterfaceError\u001b[0m                            Traceback (most recent call last)",
      "File \u001b[1;32mD:\\the_python\\lib\\site-packages\\peewee.py:3160\u001b[0m, in \u001b[0;36mDatabase.execute_sql\u001b[1;34m(self, sql, params, commit)\u001b[0m\n\u001b[0;32m   <a href='file:///d%3A/the_python/lib/site-packages/peewee.py?line=3158'>3159</a>\u001b[0m \u001b[39mtry\u001b[39;00m:\n\u001b[1;32m-> <a href='file:///d%3A/the_python/lib/site-packages/peewee.py?line=3159'>3160</a>\u001b[0m     cursor\u001b[39m.\u001b[39;49mexecute(sql, params \u001b[39mor\u001b[39;49;00m ())\n\u001b[0;32m   <a href='file:///d%3A/the_python/lib/site-packages/peewee.py?line=3160'>3161</a>\u001b[0m \u001b[39mexcept\u001b[39;00m \u001b[39mException\u001b[39;00m:\n",
      "File \u001b[1;32mD:\\the_python\\lib\\site-packages\\pymysql\\cursors.py:148\u001b[0m, in \u001b[0;36mCursor.execute\u001b[1;34m(self, query, args)\u001b[0m\n\u001b[0;32m    <a href='file:///d%3A/the_python/lib/site-packages/pymysql/cursors.py?line=145'>146</a>\u001b[0m query \u001b[39m=\u001b[39m \u001b[39mself\u001b[39m\u001b[39m.\u001b[39mmogrify(query, args)\n\u001b[1;32m--> <a href='file:///d%3A/the_python/lib/site-packages/pymysql/cursors.py?line=147'>148</a>\u001b[0m result \u001b[39m=\u001b[39m \u001b[39mself\u001b[39;49m\u001b[39m.\u001b[39;49m_query(query)\n\u001b[0;32m    <a href='file:///d%3A/the_python/lib/site-packages/pymysql/cursors.py?line=148'>149</a>\u001b[0m \u001b[39mself\u001b[39m\u001b[39m.\u001b[39m_executed \u001b[39m=\u001b[39m query\n",
      "File \u001b[1;32mD:\\the_python\\lib\\site-packages\\pymysql\\cursors.py:310\u001b[0m, in \u001b[0;36mCursor._query\u001b[1;34m(self, q)\u001b[0m\n\u001b[0;32m    <a href='file:///d%3A/the_python/lib/site-packages/pymysql/cursors.py?line=308'>309</a>\u001b[0m \u001b[39mself\u001b[39m\u001b[39m.\u001b[39m_clear_result()\n\u001b[1;32m--> <a href='file:///d%3A/the_python/lib/site-packages/pymysql/cursors.py?line=309'>310</a>\u001b[0m conn\u001b[39m.\u001b[39;49mquery(q)\n\u001b[0;32m    <a href='file:///d%3A/the_python/lib/site-packages/pymysql/cursors.py?line=310'>311</a>\u001b[0m \u001b[39mself\u001b[39m\u001b[39m.\u001b[39m_do_get_result()\n",
      "File \u001b[1;32mD:\\the_python\\lib\\site-packages\\pymysql\\connections.py:547\u001b[0m, in \u001b[0;36mConnection.query\u001b[1;34m(self, sql, unbuffered)\u001b[0m\n\u001b[0;32m    <a href='file:///d%3A/the_python/lib/site-packages/pymysql/connections.py?line=545'>546</a>\u001b[0m     sql \u001b[39m=\u001b[39m sql\u001b[39m.\u001b[39mencode(\u001b[39mself\u001b[39m\u001b[39m.\u001b[39mencoding, \u001b[39m\"\u001b[39m\u001b[39msurrogateescape\u001b[39m\u001b[39m\"\u001b[39m)\n\u001b[1;32m--> <a href='file:///d%3A/the_python/lib/site-packages/pymysql/connections.py?line=546'>547</a>\u001b[0m \u001b[39mself\u001b[39;49m\u001b[39m.\u001b[39;49m_execute_command(COMMAND\u001b[39m.\u001b[39;49mCOM_QUERY, sql)\n\u001b[0;32m    <a href='file:///d%3A/the_python/lib/site-packages/pymysql/connections.py?line=547'>548</a>\u001b[0m \u001b[39mself\u001b[39m\u001b[39m.\u001b[39m_affected_rows \u001b[39m=\u001b[39m \u001b[39mself\u001b[39m\u001b[39m.\u001b[39m_read_query_result(unbuffered\u001b[39m=\u001b[39munbuffered)\n",
      "File \u001b[1;32mD:\\the_python\\lib\\site-packages\\pymysql\\connections.py:793\u001b[0m, in \u001b[0;36mConnection._execute_command\u001b[1;34m(self, command, sql)\u001b[0m\n\u001b[0;32m    <a href='file:///d%3A/the_python/lib/site-packages/pymysql/connections.py?line=791'>792</a>\u001b[0m \u001b[39mif\u001b[39;00m \u001b[39mnot\u001b[39;00m \u001b[39mself\u001b[39m\u001b[39m.\u001b[39m_sock:\n\u001b[1;32m--> <a href='file:///d%3A/the_python/lib/site-packages/pymysql/connections.py?line=792'>793</a>\u001b[0m     \u001b[39mraise\u001b[39;00m err\u001b[39m.\u001b[39mInterfaceError(\u001b[39m0\u001b[39m, \u001b[39m\"\u001b[39m\u001b[39m\"\u001b[39m)\n\u001b[0;32m    <a href='file:///d%3A/the_python/lib/site-packages/pymysql/connections.py?line=794'>795</a>\u001b[0m \u001b[39m# If the last query was unbuffered, make sure it finishes before\u001b[39;00m\n\u001b[0;32m    <a href='file:///d%3A/the_python/lib/site-packages/pymysql/connections.py?line=795'>796</a>\u001b[0m \u001b[39m# sending new commands\u001b[39;00m\n",
      "\u001b[1;31mInterfaceError\u001b[0m: (0, '')",
      "\nDuring handling of the above exception, another exception occurred:\n",
      "\u001b[1;31mInterfaceError\u001b[0m                            Traceback (most recent call last)",
      "\u001b[1;32md:\\my_python_codes\\Peewee\\demo02.ipynb Cell 9'\u001b[0m in \u001b[0;36m<module>\u001b[1;34m\u001b[0m\n\u001b[1;32m----> <a href='vscode-notebook-cell:/d%3A/my_python_codes/Peewee/demo02.ipynb#ch0000005?line=0'>1</a>\u001b[0m \u001b[39mfor\u001b[39;00m person \u001b[39min\u001b[39;00m Person\u001b[39m.\u001b[39mselect():\n\u001b[0;32m      <a href='vscode-notebook-cell:/d%3A/my_python_codes/Peewee/demo02.ipynb#ch0000005?line=1'>2</a>\u001b[0m     \u001b[39mprint\u001b[39m(person)\n",
      "File \u001b[1;32mD:\\the_python\\lib\\site-packages\\peewee.py:6923\u001b[0m, in \u001b[0;36mBaseModelSelect.__iter__\u001b[1;34m(self)\u001b[0m\n\u001b[0;32m   <a href='file:///d%3A/the_python/lib/site-packages/peewee.py?line=6920'>6921</a>\u001b[0m \u001b[39mdef\u001b[39;00m \u001b[39m__iter__\u001b[39m(\u001b[39mself\u001b[39m):\n\u001b[0;32m   <a href='file:///d%3A/the_python/lib/site-packages/peewee.py?line=6921'>6922</a>\u001b[0m     \u001b[39mif\u001b[39;00m \u001b[39mnot\u001b[39;00m \u001b[39mself\u001b[39m\u001b[39m.\u001b[39m_cursor_wrapper:\n\u001b[1;32m-> <a href='file:///d%3A/the_python/lib/site-packages/peewee.py?line=6922'>6923</a>\u001b[0m         \u001b[39mself\u001b[39;49m\u001b[39m.\u001b[39;49mexecute()\n\u001b[0;32m   <a href='file:///d%3A/the_python/lib/site-packages/peewee.py?line=6923'>6924</a>\u001b[0m     \u001b[39mreturn\u001b[39;00m \u001b[39miter\u001b[39m(\u001b[39mself\u001b[39m\u001b[39m.\u001b[39m_cursor_wrapper)\n",
      "File \u001b[1;32mD:\\the_python\\lib\\site-packages\\peewee.py:1911\u001b[0m, in \u001b[0;36mdatabase_required.<locals>.inner\u001b[1;34m(self, database, *args, **kwargs)\u001b[0m\n\u001b[0;32m   <a href='file:///d%3A/the_python/lib/site-packages/peewee.py?line=1907'>1908</a>\u001b[0m \u001b[39mif\u001b[39;00m \u001b[39mnot\u001b[39;00m database:\n\u001b[0;32m   <a href='file:///d%3A/the_python/lib/site-packages/peewee.py?line=1908'>1909</a>\u001b[0m     \u001b[39mraise\u001b[39;00m InterfaceError(\u001b[39m'\u001b[39m\u001b[39mQuery must be bound to a database in order \u001b[39m\u001b[39m'\u001b[39m\n\u001b[0;32m   <a href='file:///d%3A/the_python/lib/site-packages/peewee.py?line=1909'>1910</a>\u001b[0m                          \u001b[39m'\u001b[39m\u001b[39mto call \u001b[39m\u001b[39m\"\u001b[39m\u001b[39m%s\u001b[39;00m\u001b[39m\"\u001b[39m\u001b[39m.\u001b[39m\u001b[39m'\u001b[39m \u001b[39m%\u001b[39m method\u001b[39m.\u001b[39m\u001b[39m__name__\u001b[39m)\n\u001b[1;32m-> <a href='file:///d%3A/the_python/lib/site-packages/peewee.py?line=1910'>1911</a>\u001b[0m \u001b[39mreturn\u001b[39;00m method(\u001b[39mself\u001b[39;49m, database, \u001b[39m*\u001b[39;49margs, \u001b[39m*\u001b[39;49m\u001b[39m*\u001b[39;49mkwargs)\n",
      "File \u001b[1;32mD:\\the_python\\lib\\site-packages\\peewee.py:1982\u001b[0m, in \u001b[0;36mBaseQuery.execute\u001b[1;34m(self, database)\u001b[0m\n\u001b[0;32m   <a href='file:///d%3A/the_python/lib/site-packages/peewee.py?line=1979'>1980</a>\u001b[0m \u001b[39m@database_required\u001b[39m\n\u001b[0;32m   <a href='file:///d%3A/the_python/lib/site-packages/peewee.py?line=1980'>1981</a>\u001b[0m \u001b[39mdef\u001b[39;00m \u001b[39mexecute\u001b[39m(\u001b[39mself\u001b[39m, database):\n\u001b[1;32m-> <a href='file:///d%3A/the_python/lib/site-packages/peewee.py?line=1981'>1982</a>\u001b[0m     \u001b[39mreturn\u001b[39;00m \u001b[39mself\u001b[39;49m\u001b[39m.\u001b[39;49m_execute(database)\n",
      "File \u001b[1;32mD:\\the_python\\lib\\site-packages\\peewee.py:2155\u001b[0m, in \u001b[0;36mSelectBase._execute\u001b[1;34m(self, database)\u001b[0m\n\u001b[0;32m   <a href='file:///d%3A/the_python/lib/site-packages/peewee.py?line=2152'>2153</a>\u001b[0m \u001b[39mdef\u001b[39;00m \u001b[39m_execute\u001b[39m(\u001b[39mself\u001b[39m, database):\n\u001b[0;32m   <a href='file:///d%3A/the_python/lib/site-packages/peewee.py?line=2153'>2154</a>\u001b[0m     \u001b[39mif\u001b[39;00m \u001b[39mself\u001b[39m\u001b[39m.\u001b[39m_cursor_wrapper \u001b[39mis\u001b[39;00m \u001b[39mNone\u001b[39;00m:\n\u001b[1;32m-> <a href='file:///d%3A/the_python/lib/site-packages/peewee.py?line=2154'>2155</a>\u001b[0m         cursor \u001b[39m=\u001b[39m database\u001b[39m.\u001b[39;49mexecute(\u001b[39mself\u001b[39;49m)\n\u001b[0;32m   <a href='file:///d%3A/the_python/lib/site-packages/peewee.py?line=2155'>2156</a>\u001b[0m         \u001b[39mself\u001b[39m\u001b[39m.\u001b[39m_cursor_wrapper \u001b[39m=\u001b[39m \u001b[39mself\u001b[39m\u001b[39m.\u001b[39m_get_cursor_wrapper(cursor)\n\u001b[0;32m   <a href='file:///d%3A/the_python/lib/site-packages/peewee.py?line=2156'>2157</a>\u001b[0m     \u001b[39mreturn\u001b[39;00m \u001b[39mself\u001b[39m\u001b[39m.\u001b[39m_cursor_wrapper\n",
      "File \u001b[1;32mD:\\the_python\\lib\\site-packages\\peewee.py:3173\u001b[0m, in \u001b[0;36mDatabase.execute\u001b[1;34m(self, query, commit, **context_options)\u001b[0m\n\u001b[0;32m   <a href='file:///d%3A/the_python/lib/site-packages/peewee.py?line=3170'>3171</a>\u001b[0m ctx \u001b[39m=\u001b[39m \u001b[39mself\u001b[39m\u001b[39m.\u001b[39mget_sql_context(\u001b[39m*\u001b[39m\u001b[39m*\u001b[39mcontext_options)\n\u001b[0;32m   <a href='file:///d%3A/the_python/lib/site-packages/peewee.py?line=3171'>3172</a>\u001b[0m sql, params \u001b[39m=\u001b[39m ctx\u001b[39m.\u001b[39msql(query)\u001b[39m.\u001b[39mquery()\n\u001b[1;32m-> <a href='file:///d%3A/the_python/lib/site-packages/peewee.py?line=3172'>3173</a>\u001b[0m \u001b[39mreturn\u001b[39;00m \u001b[39mself\u001b[39;49m\u001b[39m.\u001b[39;49mexecute_sql(sql, params, commit\u001b[39m=\u001b[39;49mcommit)\n",
      "File \u001b[1;32mD:\\the_python\\lib\\site-packages\\peewee.py:3167\u001b[0m, in \u001b[0;36mDatabase.execute_sql\u001b[1;34m(self, sql, params, commit)\u001b[0m\n\u001b[0;32m   <a href='file:///d%3A/the_python/lib/site-packages/peewee.py?line=3164'>3165</a>\u001b[0m     \u001b[39melse\u001b[39;00m:\n\u001b[0;32m   <a href='file:///d%3A/the_python/lib/site-packages/peewee.py?line=3165'>3166</a>\u001b[0m         \u001b[39mif\u001b[39;00m commit \u001b[39mand\u001b[39;00m \u001b[39mnot\u001b[39;00m \u001b[39mself\u001b[39m\u001b[39m.\u001b[39min_transaction():\n\u001b[1;32m-> <a href='file:///d%3A/the_python/lib/site-packages/peewee.py?line=3166'>3167</a>\u001b[0m             \u001b[39mself\u001b[39m\u001b[39m.\u001b[39mcommit()\n\u001b[0;32m   <a href='file:///d%3A/the_python/lib/site-packages/peewee.py?line=3167'>3168</a>\u001b[0m \u001b[39mreturn\u001b[39;00m cursor\n",
      "File \u001b[1;32mD:\\the_python\\lib\\site-packages\\peewee.py:2933\u001b[0m, in \u001b[0;36mExceptionWrapper.__exit__\u001b[1;34m(self, exc_type, exc_value, traceback)\u001b[0m\n\u001b[0;32m   <a href='file:///d%3A/the_python/lib/site-packages/peewee.py?line=2930'>2931</a>\u001b[0m new_type \u001b[39m=\u001b[39m \u001b[39mself\u001b[39m\u001b[39m.\u001b[39mexceptions[exc_type\u001b[39m.\u001b[39m\u001b[39m__name__\u001b[39m]\n\u001b[0;32m   <a href='file:///d%3A/the_python/lib/site-packages/peewee.py?line=2931'>2932</a>\u001b[0m exc_args \u001b[39m=\u001b[39m exc_value\u001b[39m.\u001b[39margs\n\u001b[1;32m-> <a href='file:///d%3A/the_python/lib/site-packages/peewee.py?line=2932'>2933</a>\u001b[0m reraise(new_type, new_type(exc_value, \u001b[39m*\u001b[39;49mexc_args), traceback)\n",
      "File \u001b[1;32mD:\\the_python\\lib\\site-packages\\peewee.py:191\u001b[0m, in \u001b[0;36mreraise\u001b[1;34m(tp, value, tb)\u001b[0m\n\u001b[0;32m    <a href='file:///d%3A/the_python/lib/site-packages/peewee.py?line=188'>189</a>\u001b[0m \u001b[39mdef\u001b[39;00m \u001b[39mreraise\u001b[39m(tp, value, tb\u001b[39m=\u001b[39m\u001b[39mNone\u001b[39;00m):\n\u001b[0;32m    <a href='file:///d%3A/the_python/lib/site-packages/peewee.py?line=189'>190</a>\u001b[0m     \u001b[39mif\u001b[39;00m value\u001b[39m.\u001b[39m__traceback__ \u001b[39mis\u001b[39;00m \u001b[39mnot\u001b[39;00m tb:\n\u001b[1;32m--> <a href='file:///d%3A/the_python/lib/site-packages/peewee.py?line=190'>191</a>\u001b[0m         \u001b[39mraise\u001b[39;00m value\u001b[39m.\u001b[39mwith_traceback(tb)\n\u001b[0;32m    <a href='file:///d%3A/the_python/lib/site-packages/peewee.py?line=191'>192</a>\u001b[0m     \u001b[39mraise\u001b[39;00m value\n",
      "File \u001b[1;32mD:\\the_python\\lib\\site-packages\\peewee.py:3160\u001b[0m, in \u001b[0;36mDatabase.execute_sql\u001b[1;34m(self, sql, params, commit)\u001b[0m\n\u001b[0;32m   <a href='file:///d%3A/the_python/lib/site-packages/peewee.py?line=3157'>3158</a>\u001b[0m cursor \u001b[39m=\u001b[39m \u001b[39mself\u001b[39m\u001b[39m.\u001b[39mcursor(commit)\n\u001b[0;32m   <a href='file:///d%3A/the_python/lib/site-packages/peewee.py?line=3158'>3159</a>\u001b[0m \u001b[39mtry\u001b[39;00m:\n\u001b[1;32m-> <a href='file:///d%3A/the_python/lib/site-packages/peewee.py?line=3159'>3160</a>\u001b[0m     cursor\u001b[39m.\u001b[39;49mexecute(sql, params \u001b[39mor\u001b[39;49;00m ())\n\u001b[0;32m   <a href='file:///d%3A/the_python/lib/site-packages/peewee.py?line=3160'>3161</a>\u001b[0m \u001b[39mexcept\u001b[39;00m \u001b[39mException\u001b[39;00m:\n\u001b[0;32m   <a href='file:///d%3A/the_python/lib/site-packages/peewee.py?line=3161'>3162</a>\u001b[0m     \u001b[39mif\u001b[39;00m \u001b[39mself\u001b[39m\u001b[39m.\u001b[39mautorollback \u001b[39mand\u001b[39;00m \u001b[39mnot\u001b[39;00m \u001b[39mself\u001b[39m\u001b[39m.\u001b[39min_transaction():\n",
      "File \u001b[1;32mD:\\the_python\\lib\\site-packages\\pymysql\\cursors.py:148\u001b[0m, in \u001b[0;36mCursor.execute\u001b[1;34m(self, query, args)\u001b[0m\n\u001b[0;32m    <a href='file:///d%3A/the_python/lib/site-packages/pymysql/cursors.py?line=143'>144</a>\u001b[0m     \u001b[39mpass\u001b[39;00m\n\u001b[0;32m    <a href='file:///d%3A/the_python/lib/site-packages/pymysql/cursors.py?line=145'>146</a>\u001b[0m query \u001b[39m=\u001b[39m \u001b[39mself\u001b[39m\u001b[39m.\u001b[39mmogrify(query, args)\n\u001b[1;32m--> <a href='file:///d%3A/the_python/lib/site-packages/pymysql/cursors.py?line=147'>148</a>\u001b[0m result \u001b[39m=\u001b[39m \u001b[39mself\u001b[39;49m\u001b[39m.\u001b[39;49m_query(query)\n\u001b[0;32m    <a href='file:///d%3A/the_python/lib/site-packages/pymysql/cursors.py?line=148'>149</a>\u001b[0m \u001b[39mself\u001b[39m\u001b[39m.\u001b[39m_executed \u001b[39m=\u001b[39m query\n\u001b[0;32m    <a href='file:///d%3A/the_python/lib/site-packages/pymysql/cursors.py?line=149'>150</a>\u001b[0m \u001b[39mreturn\u001b[39;00m result\n",
      "File \u001b[1;32mD:\\the_python\\lib\\site-packages\\pymysql\\cursors.py:310\u001b[0m, in \u001b[0;36mCursor._query\u001b[1;34m(self, q)\u001b[0m\n\u001b[0;32m    <a href='file:///d%3A/the_python/lib/site-packages/pymysql/cursors.py?line=307'>308</a>\u001b[0m \u001b[39mself\u001b[39m\u001b[39m.\u001b[39m_last_executed \u001b[39m=\u001b[39m q\n\u001b[0;32m    <a href='file:///d%3A/the_python/lib/site-packages/pymysql/cursors.py?line=308'>309</a>\u001b[0m \u001b[39mself\u001b[39m\u001b[39m.\u001b[39m_clear_result()\n\u001b[1;32m--> <a href='file:///d%3A/the_python/lib/site-packages/pymysql/cursors.py?line=309'>310</a>\u001b[0m conn\u001b[39m.\u001b[39;49mquery(q)\n\u001b[0;32m    <a href='file:///d%3A/the_python/lib/site-packages/pymysql/cursors.py?line=310'>311</a>\u001b[0m \u001b[39mself\u001b[39m\u001b[39m.\u001b[39m_do_get_result()\n\u001b[0;32m    <a href='file:///d%3A/the_python/lib/site-packages/pymysql/cursors.py?line=311'>312</a>\u001b[0m \u001b[39mreturn\u001b[39;00m \u001b[39mself\u001b[39m\u001b[39m.\u001b[39mrowcount\n",
      "File \u001b[1;32mD:\\the_python\\lib\\site-packages\\pymysql\\connections.py:547\u001b[0m, in \u001b[0;36mConnection.query\u001b[1;34m(self, sql, unbuffered)\u001b[0m\n\u001b[0;32m    <a href='file:///d%3A/the_python/lib/site-packages/pymysql/connections.py?line=544'>545</a>\u001b[0m \u001b[39mif\u001b[39;00m \u001b[39misinstance\u001b[39m(sql, \u001b[39mstr\u001b[39m):\n\u001b[0;32m    <a href='file:///d%3A/the_python/lib/site-packages/pymysql/connections.py?line=545'>546</a>\u001b[0m     sql \u001b[39m=\u001b[39m sql\u001b[39m.\u001b[39mencode(\u001b[39mself\u001b[39m\u001b[39m.\u001b[39mencoding, \u001b[39m\"\u001b[39m\u001b[39msurrogateescape\u001b[39m\u001b[39m\"\u001b[39m)\n\u001b[1;32m--> <a href='file:///d%3A/the_python/lib/site-packages/pymysql/connections.py?line=546'>547</a>\u001b[0m \u001b[39mself\u001b[39;49m\u001b[39m.\u001b[39;49m_execute_command(COMMAND\u001b[39m.\u001b[39;49mCOM_QUERY, sql)\n\u001b[0;32m    <a href='file:///d%3A/the_python/lib/site-packages/pymysql/connections.py?line=547'>548</a>\u001b[0m \u001b[39mself\u001b[39m\u001b[39m.\u001b[39m_affected_rows \u001b[39m=\u001b[39m \u001b[39mself\u001b[39m\u001b[39m.\u001b[39m_read_query_result(unbuffered\u001b[39m=\u001b[39munbuffered)\n\u001b[0;32m    <a href='file:///d%3A/the_python/lib/site-packages/pymysql/connections.py?line=548'>549</a>\u001b[0m \u001b[39mreturn\u001b[39;00m \u001b[39mself\u001b[39m\u001b[39m.\u001b[39m_affected_rows\n",
      "File \u001b[1;32mD:\\the_python\\lib\\site-packages\\pymysql\\connections.py:793\u001b[0m, in \u001b[0;36mConnection._execute_command\u001b[1;34m(self, command, sql)\u001b[0m\n\u001b[0;32m    <a href='file:///d%3A/the_python/lib/site-packages/pymysql/connections.py?line=787'>788</a>\u001b[0m \u001b[39m\"\"\"\u001b[39;00m\n\u001b[0;32m    <a href='file:///d%3A/the_python/lib/site-packages/pymysql/connections.py?line=788'>789</a>\u001b[0m \u001b[39m:raise InterfaceError: If the connection is closed.\u001b[39;00m\n\u001b[0;32m    <a href='file:///d%3A/the_python/lib/site-packages/pymysql/connections.py?line=789'>790</a>\u001b[0m \u001b[39m:raise ValueError: If no username was specified.\u001b[39;00m\n\u001b[0;32m    <a href='file:///d%3A/the_python/lib/site-packages/pymysql/connections.py?line=790'>791</a>\u001b[0m \u001b[39m\"\"\"\u001b[39;00m\n\u001b[0;32m    <a href='file:///d%3A/the_python/lib/site-packages/pymysql/connections.py?line=791'>792</a>\u001b[0m \u001b[39mif\u001b[39;00m \u001b[39mnot\u001b[39;00m \u001b[39mself\u001b[39m\u001b[39m.\u001b[39m_sock:\n\u001b[1;32m--> <a href='file:///d%3A/the_python/lib/site-packages/pymysql/connections.py?line=792'>793</a>\u001b[0m     \u001b[39mraise\u001b[39;00m err\u001b[39m.\u001b[39mInterfaceError(\u001b[39m0\u001b[39m, \u001b[39m\"\u001b[39m\u001b[39m\"\u001b[39m)\n\u001b[0;32m    <a href='file:///d%3A/the_python/lib/site-packages/pymysql/connections.py?line=794'>795</a>\u001b[0m \u001b[39m# If the last query was unbuffered, make sure it finishes before\u001b[39;00m\n\u001b[0;32m    <a href='file:///d%3A/the_python/lib/site-packages/pymysql/connections.py?line=795'>796</a>\u001b[0m \u001b[39m# sending new commands\u001b[39;00m\n\u001b[0;32m    <a href='file:///d%3A/the_python/lib/site-packages/pymysql/connections.py?line=796'>797</a>\u001b[0m \u001b[39mif\u001b[39;00m \u001b[39mself\u001b[39m\u001b[39m.\u001b[39m_result \u001b[39mis\u001b[39;00m \u001b[39mnot\u001b[39;00m \u001b[39mNone\u001b[39;00m:\n",
      "\u001b[1;31mInterfaceError\u001b[0m: (0, '')"
     ]
    }
   ],
   "source": [
    "# for person in Person.select():\n",
    "#     print(person)w\n",
    "\n"
   ]
  }
 ],
 "metadata": {
  "interpreter": {
   "hash": "a6e944699bf9c0f5da2073125e717654b7a0a4b9e7784affecc55ebea1d3b89d"
  },
  "kernelspec": {
   "display_name": "Python 3.8.10 64-bit",
   "language": "python",
   "name": "python3"
  },
  "language_info": {
   "codemirror_mode": {
    "name": "ipython",
    "version": 3
   },
   "file_extension": ".py",
   "mimetype": "text/x-python",
   "name": "python",
   "nbconvert_exporter": "python",
   "pygments_lexer": "ipython3",
   "version": "3.8.10"
  },
  "orig_nbformat": 4
 },
 "nbformat": 4,
 "nbformat_minor": 2
}
