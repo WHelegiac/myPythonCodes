{
 "cells": [
  {
   "cell_type": "code",
   "execution_count": 33,
   "metadata": {},
   "outputs": [],
   "source": [
    "import pickle\n",
    "import numpy as np\n",
    "\n",
    "arrOne = np.random.randint(0,100,size=10)\n",
    "arrTwo = np.random.randint(0,100,size=10)\n",
    "arrThree = np.random.randint(0,100,size= 10)\n",
    "np.savez(\"myArr\",a = arrOne,b = arrTwo,c = arrThree)"
   ]
  },
  {
   "cell_type": "code",
   "execution_count": 38,
   "metadata": {},
   "outputs": [
    {
     "name": "stdout",
     "output_type": "stream",
     "text": [
      "[64 69 79 41  4 39 39 83 42 55]\n"
     ]
    }
   ],
   "source": [
    "arr   = np.load(\"./myArr.npz\")\n",
    "print(arr['b'])"
   ]
  },
  {
   "cell_type": "code",
   "execution_count": 43,
   "metadata": {},
   "outputs": [
    {
     "name": "stdout",
     "output_type": "stream",
     "text": [
      "[[444 510  32 787  36]\n",
      " [276 978 827 140 593]\n",
      " [392 856 201  53 520]\n",
      " [162 255 961 375 673]\n",
      " [446 308 395 656 819]]\n",
      "[[573 671 169 721 913]\n",
      " [604 145  48 809  47]\n",
      " [339 890 581 261 127]\n",
      " [440 164 514 864 789]\n",
      " [234 139 467 872 615]]\n",
      "[[254412 342210   5408 567427  32868]\n",
      " [166704 141810  39696 113260  27871]\n",
      " [132888 761840 116781  13833  66040]\n",
      " [ 71280  41820 493954 324000 530997]\n",
      " [104364  42812 184465 572032 503685]]\n"
     ]
    }
   ],
   "source": [
    "A = np.random.randint(0,1000,size = (5,5))\n",
    "B = np.random.randint(0,1000,size = (5,5))\n",
    "\n",
    "print(A)\n",
    "print(B)\n",
    "print()"
   ]
  }
 ],
 "metadata": {
  "interpreter": {
   "hash": "cbd36271b14161e816249ef302914b36ea00e417f0243174c8de0dd9cab2f8e6"
  },
  "kernelspec": {
   "display_name": "Python 3.9.7 64-bit ('base': conda)",
   "language": "python",
   "name": "python3"
  },
  "language_info": {
   "codemirror_mode": {
    "name": "ipython",
    "version": 3
   },
   "file_extension": ".py",
   "mimetype": "text/x-python",
   "name": "python",
   "nbconvert_exporter": "python",
   "pygments_lexer": "ipython3",
   "version": "3.9.7"
  },
  "orig_nbformat": 4
 },
 "nbformat": 4,
 "nbformat_minor": 2
}
