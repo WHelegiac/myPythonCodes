{
 "cells": [
  {
   "cell_type": "code",
   "execution_count": null,
   "metadata": {},
   "outputs": [],
   "source": [
    "import numpy as np\n",
    "\n",
    "A = np.random.randint(0,100,size=(3,4))\n",
    "B = np.random.randint(0,100,size=(4,3))\n",
    "print(A)\n",
    "print(B)\n",
    "print(np.dot(A,B).reshape(1,9))"
   ]
  },
  {
   "cell_type": "code",
   "execution_count": null,
   "metadata": {},
   "outputs": [],
   "source": [
    "import numpy as np\n",
    "\n",
    "A = np.array([\n",
    "    [12,35,46],\n",
    "    [35,5,6],\n",
    "    [23,35,57]\n",
    "])\n"
   ]
  },
  {
   "cell_type": "code",
   "execution_count": null,
   "metadata": {},
   "outputs": [],
   "source": [
    "import numpy as np\n",
    "from matplotlib import pyplot as plt\n",
    "\n",
    "x = np.arange(1, 11)\n",
    "y = 2*x*x + 8*x + 10\n",
    "plt.title(\"One-dimensional quadratic equation\")\n",
    "plt.xlabel(\"x axis\")\n",
    "plt.ylabel(\"y axis\")\n",
    "plt.plot(x,y,'.g')\n",
    "plt.show()\n",
    "\n"
   ]
  },
  {
   "cell_type": "code",
   "execution_count": null,
   "metadata": {},
   "outputs": [],
   "source": [
    "print(\"HELLO\")"
   ]
  },
  {
   "cell_type": "code",
   "execution_count": null,
   "metadata": {},
   "outputs": [],
   "source": [
    "import pandas as pd\n",
    "import numpy as np\n",
    "\n",
    "s = pd.Series(np.random.randint(0,100,))\n",
    "print(s)"
   ]
  },
  {
   "cell_type": "code",
   "execution_count": null,
   "metadata": {},
   "outputs": [],
   "source": [
    "import pandas as pd\n",
    "import random\n",
    "\n",
    "S  = pd.Series(data=[random.randint(0,1000) for _ in range(10)],index=[x + 1 for x in range(10)])\n",
    "print(S.tail(3))"
   ]
  },
  {
   "cell_type": "code",
   "execution_count": 81,
   "metadata": {},
   "outputs": [
    {
     "name": "stdout",
     "output_type": "stream",
     "text": [
      "      name studentNumbers  score   GPA\n",
      "1   PDTvd1   632003078612    520  3.03\n",
      "2   FyP2iz   632003079528    595  4.40\n",
      "3   ICpw4z   632003070476    572  2.14\n",
      "4   4diXHm   632003078472    566  4.36\n",
      "5   3RZcaN   632003077250    594  2.63\n",
      "6   UIhLfM   632003073148    596  4.97\n",
      "7   UldeQK   632003079301    534  4.55\n",
      "8   7Uk3r8   632003074289    614  2.83\n",
      "9   rEbJDo   632003072048    571  4.80\n",
      "10  ktU4KQ   632003076574    537  2.85\n",
      "11  kgNxWX   632003070971    541  4.25\n",
      "12  GM5fkP   632003071695    573  4.16\n",
      "13  qDzHem   632003075947    607  4.79\n",
      "14  QNECP0   632003070867    540  4.64\n",
      "15  q4wALk   632003075146    562  2.56\n",
      "16  lrdPnI   632003078053    616  4.38\n",
      "17  mtRlKe   632003075284    556  4.70\n",
      "18  YAlM6p   632003077501    581  2.36\n",
      "19  f3nvko   632003074726    549  4.70\n",
      "20  BWlMmz   632003074837    547  3.16\n",
      "0   WanHao   632003060119    100  3.59\n"
     ]
    }
   ],
   "source": [
    "import pandas as pd\n",
    "import string\n",
    "import random\n",
    "import time\n",
    "import numpy as np\n",
    "\n",
    "random.seed(time.time())\n",
    "\n",
    "\n",
    "def get_random_name():\n",
    "    name = \"\".join(random.sample(string.ascii_letters+string.digits, 6))\n",
    "    return name\n",
    "\n",
    "\n",
    "def get_random_stuNum():\n",
    "    stuNum = \"63200307\" + \"\".join(random.sample(string.digits, 4))\n",
    "    return stuNum\n",
    "\n",
    "\n",
    "def get_random_score():\n",
    "    score = random.randint(520, 620)\n",
    "    return score\n",
    "\n",
    "\n",
    "data = [\n",
    "    [get_random_name(), get_random_stuNum(), get_random_score()] for _ in range(20)\n",
    "]\n",
    "\n",
    "df = pd.DataFrame(data=data, columns=[\"name\", \"studentNumbers\", \"score\"], index=[\n",
    "                  index + 1 for index in range(20)])\n",
    "\n",
    "df[\"GPA\"] = [round(random.uniform(2, 5), 2) for _ in range(20)]\n",
    "\n",
    "df = df.append(pd.DataFrame(data=[[\"WanHao\",\"632003060119\",100,3.59],[\"WanHao\",\"632003060119\",100,3.59]],columns=[\"name\",\"studentNumbers\",\"score\",\"GPA\"]))\n",
    "\n",
    "print(df.drop_duplicates())\n"
   ]
  },
  {
   "cell_type": "code",
   "execution_count": null,
   "metadata": {},
   "outputs": [],
   "source": []
  },
  {
   "cell_type": "code",
   "execution_count": null,
   "metadata": {},
   "outputs": [],
   "source": []
  }
 ],
 "metadata": {
  "interpreter": {
   "hash": "cbd36271b14161e816249ef302914b36ea00e417f0243174c8de0dd9cab2f8e6"
  },
  "kernelspec": {
   "display_name": "Python 3.9.7 64-bit ('base': conda)",
   "language": "python",
   "name": "python3"
  },
  "language_info": {
   "codemirror_mode": {
    "name": "ipython",
    "version": 3
   },
   "file_extension": ".py",
   "mimetype": "text/x-python",
   "name": "python",
   "nbconvert_exporter": "python",
   "pygments_lexer": "ipython3",
   "version": "3.9.7"
  },
  "orig_nbformat": 4
 },
 "nbformat": 4,
 "nbformat_minor": 2
}
