{
 "cells": [
  {
   "cell_type": "code",
   "execution_count": 1,
   "metadata": {},
   "outputs": [],
   "source": [
    "import re"
   ]
  },
  {
   "cell_type": "code",
   "execution_count": 4,
   "metadata": {},
   "outputs": [
    {
     "name": "stdout",
     "output_type": "stream",
     "text": [
      "['', 'a', '', 'a', '', 'a', '', 'a', '', '', '', '']\n"
     ]
    }
   ],
   "source": [
    "text = \"aaaabbb\"\n",
    "\n"
   ]
  },
  {
   "cell_type": "code",
   "execution_count": 11,
   "metadata": {},
   "outputs": [
    {
     "name": "stdout",
     "output_type": "stream",
     "text": [
      "['aaaa', '', '', '', '']\n"
     ]
    }
   ],
   "source": [
    "import regex\n",
    "\n",
    "result = regex.findall(r\"a*+\",text)\n",
    "print(result)\n",
    "\n"
   ]
  },
  {
   "cell_type": "code",
   "execution_count": 14,
   "metadata": {},
   "outputs": [
    {
     "name": "stdout",
     "output_type": "stream",
     "text": [
      "534\n"
     ]
    }
   ],
   "source": [
    "# with open(\"./TXT/leetcodes.txt\") as file:\n",
    "#     text = file.read()\n",
    "    \n",
    "# import re\n",
    "\n",
    "# regex = re.compile(\"\\d*\")\n",
    "\n",
    "# ques = [int(i)  for i  in regex.findall(text) if i != \"\"]\n",
    "# print(len(ques))"
   ]
  }
 ],
 "metadata": {
  "interpreter": {
   "hash": "a6e944699bf9c0f5da2073125e717654b7a0a4b9e7784affecc55ebea1d3b89d"
  },
  "kernelspec": {
   "display_name": "Python 3.8.10 64-bit",
   "language": "python",
   "name": "python3"
  },
  "language_info": {
   "codemirror_mode": {
    "name": "ipython",
    "version": 3
   },
   "file_extension": ".py",
   "mimetype": "text/x-python",
   "name": "python",
   "nbconvert_exporter": "python",
   "pygments_lexer": "ipython3",
   "version": "3.8.10"
  },
  "orig_nbformat": 4
 },
 "nbformat": 4,
 "nbformat_minor": 2
}
