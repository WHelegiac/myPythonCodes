{
 "cells": [
  {
   "cell_type": "markdown",
   "metadata": {},
   "source": [
    "Array input and output:"
   ]
  },
  {
   "cell_type": "code",
   "execution_count": null,
   "metadata": {},
   "outputs": [],
   "source": [
    "import numpy as np\n",
    "import pickle\n",
    "\n",
    "x = np.arange(10)\n",
    "with open(\"./test.pkl\",'wb') as file:\n",
    "    pickle.dump(x,file)\n",
    "    \n",
    "    \n",
    "# with open(\"./test.pkl\",'rb') as pkFile:\n",
    "#     print(type(pickle.load(pkFile)))\n"
   ]
  },
  {
   "cell_type": "code",
   "execution_count": 21,
   "metadata": {},
   "outputs": [
    {
     "name": "stdout",
     "output_type": "stream",
     "text": [
      "(0, WanHao         摆烂\n",
      "CaiXuKun       唱跳\n",
      "YuZhiBo you    天照\n",
      "Name: 0, dtype: object) \n",
      "\n",
      "(1, WanHao          摸鱼\n",
      "CaiXuKun       rap\n",
      "YuZhiBo you     月度\n",
      "Name: 1, dtype: object) \n",
      "\n",
      "(2, WanHao           躺平\n",
      "CaiXuKun         篮球\n",
      "YuZhiBo you    须佐能乎\n",
      "Name: 2, dtype: object) \n",
      "\n"
     ]
    }
   ],
   "source": [
    "import pandas as pd\n",
    "import numpy as np\n",
    "from pandas import Series, DataFrame\n",
    "\n",
    "data = { \"WanHao\" : [\"摆烂\",\"摸鱼\",\"躺平\"],\n",
    "        \"CaiXuKun\" :[\"唱跳\",\"rap\",\"篮球\"],\n",
    "        \"YuZhiBo you\" : [\"天照\",\"月度\",\"须佐能乎\"]\n",
    "}\n",
    "\n",
    "\n",
    "dataFrame = pd.DataFrame(data)\n",
    "for item in dataFrame.iterrows():\n",
    "    \n"
   ]
  },
  {
   "cell_type": "code",
   "execution_count": null,
   "metadata": {},
   "outputs": [],
   "source": []
  }
 ],
 "metadata": {
  "interpreter": {
   "hash": "cbd36271b14161e816249ef302914b36ea00e417f0243174c8de0dd9cab2f8e6"
  },
  "kernelspec": {
   "display_name": "Python 3.8.8 64-bit ('base': conda)",
   "language": "python",
   "name": "python3"
  },
  "language_info": {
   "codemirror_mode": {
    "name": "ipython",
    "version": 3
   },
   "file_extension": ".py",
   "mimetype": "text/x-python",
   "name": "python",
   "nbconvert_exporter": "python",
   "pygments_lexer": "ipython3",
   "version": "3.8.8"
  },
  "orig_nbformat": 4
 },
 "nbformat": 4,
 "nbformat_minor": 2
}
