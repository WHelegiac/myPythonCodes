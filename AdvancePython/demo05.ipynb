{
 "cells": [
  {
   "cell_type": "code",
   "execution_count": null,
   "metadata": {},
   "outputs": [],
   "source": [
    "def func():\n",
    "    '''这是一个测试函数'''\n",
    "    pass\n",
    "\n",
    "print(func.__name__)\n",
    "print(func.__doc__)\n",
    "print(func.__dict__)\n"
   ]
  },
  {
   "cell_type": "code",
   "execution_count": null,
   "metadata": {},
   "outputs": [],
   "source": [
    "def func(a :int, b : int) -> int:\n",
    "    pass\n",
    "\n",
    "print(func.)"
   ]
  },
  {
   "cell_type": "code",
   "execution_count": null,
   "metadata": {},
   "outputs": [],
   "source": [
    "class IntTuple(tuple):\n",
    "    def __new__(cls,iterable):\n",
    "        filter_iterable = (e for e in iterable if isinstance(e,int) and e > 0)\n",
    "        return super.__new__(cls,filter)\n",
    "    \n",
    "    \n",
    "print(IntTuple())"
   ]
  },
  {
   "cell_type": "code",
   "execution_count": 43,
   "metadata": {},
   "outputs": [
    {
     "name": "stdout",
     "output_type": "stream",
     "text": [
      "5\n"
     ]
    }
   ],
   "source": [
    "import xlrd\n",
    "import xlwt\n",
    "\n",
    "book = xlrd.open_workbook(\"./前营立交人流.xls\")\n",
    "sheet = book.sheet_by_index(0)\n"
   ]
  },
  {
   "cell_type": "code",
   "execution_count": 49,
   "metadata": {},
   "outputs": [],
   "source": [
    "import os\n",
    "\n",
    "filename = os.path.abspath(\"./test.xlsx\")\n",
    "preDirname = os.path.dirname(filename)\n",
    "newName = os.path.join(preDirname,\"test.xls\")\n",
    "os.rename(os.path.abspath(\"./test.xlsx\"),newName)"
   ]
  },
  {
   "cell_type": "code",
   "execution_count": null,
   "metadata": {},
   "outputs": [],
   "source": []
  },
  {
   "cell_type": "markdown",
   "metadata": {},
   "source": []
  }
 ],
 "metadata": {
  "interpreter": {
   "hash": "cbd36271b14161e816249ef302914b36ea00e417f0243174c8de0dd9cab2f8e6"
  },
  "kernelspec": {
   "display_name": "Python 3.9.7 ('base')",
   "language": "python",
   "name": "python3"
  },
  "language_info": {
   "codemirror_mode": {
    "name": "ipython",
    "version": 3
   },
   "file_extension": ".py",
   "mimetype": "text/x-python",
   "name": "python",
   "nbconvert_exporter": "python",
   "pygments_lexer": "ipython3",
   "version": "3.9.7"
  },
  "orig_nbformat": 4
 },
 "nbformat": 4,
 "nbformat_minor": 2
}
