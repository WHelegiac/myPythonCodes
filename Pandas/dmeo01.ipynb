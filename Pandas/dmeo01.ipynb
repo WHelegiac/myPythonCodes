{
 "cells": [
  {
   "cell_type": "code",
   "execution_count": 58,
   "metadata": {},
   "outputs": [
    {
     "name": "stdout",
     "output_type": "stream",
     "text": [
      "         姓名            学号   GPA  wocao  OS  DataStructure\n",
      "5    3Py6sw  632007394572  3.75     43  56             15\n",
      "7    DJZTxN  632007985673  4.45     37  63             89\n",
      "9    Q9wcdv  632007348169  2.61      1  38             30\n",
      "11   HbcOQ1  632007940186  3.18     15  30             77\n",
      "13   GohzlQ  632007785326  2.73     97  80             41\n",
      "15   mx5Dlr  632007432790  4.04     82  51             19\n",
      "17   R5D0Sc  632007078132  2.88     79  55             99\n",
      "19   jvBJuU  632007357416  4.20     93  39             47\n",
      "21   CyIFR4  632007273059  2.67     82   5             48\n",
      "23   Uxz6wD  632007406398  3.81      4   2              7\n",
      "25   V7H9Cb  632007637809  2.53     82  21             32\n",
      "27   GLHsCN  632007182364  4.25     98   1             18\n",
      "29   NRV80b  632007527618  2.81     93  22             28\n",
      "31   nFC09f  632007013947  3.04     16   2              9\n",
      "33   FgwJmx  632007835204  4.31     21  98             30\n",
      "35   J6moGz  632007247813  4.32     98  38             83\n",
      "37   RjcIWN  632007085794  2.28     51  56             22\n",
      "39   S3qsLw  632007435792  2.35     63  37             17\n",
      "41   twOsif  632007917840  3.86     17  13             62\n",
      "43   FjEsC5  632007908137  3.63     90  42             27\n",
      "45   FkI3Xo  632007213645  4.04     40  83             70\n",
      "47   Gts4U1  632007937425  2.65     76  80             85\n",
      "49   74yePR  632007536804  3.78     50  82             71\n",
      "51   Bchotz  632007304921  3.13     62  44             43\n",
      "53   Cy36AN  632007691708  4.95     90  42             71\n",
      "55   BuGPUX  632007467953  2.42     30  36             67\n",
      "57   81cATd  632007547813  2.83     81  53             58\n",
      "59   vnQhFo  632007821734  2.67     61  17             85\n",
      "61   NUYJyA  632007680753  3.54     90  47             67\n",
      "63   WmNITc  632007749160  3.71     79  27             75\n",
      "65   cXZ0fg  632007129350  2.09     32  70             46\n",
      "67   TuKwer  632007627435  2.17     41  10             87\n",
      "69   N0UpyE  632007235897  4.22     61  92             52\n",
      "71   04Bpuy  632007046537  4.55     82  69              4\n",
      "73   JoAX2j  632007625349  3.48     90  42             65\n",
      "75   pVSHZB  632007894603  3.97     47  34             19\n",
      "77   E2VgSD  632007231540  3.55     48  15             15\n",
      "79   tL5n8T  632007034927  4.78     13  83             30\n",
      "81   g2CopU  632007392617  4.53     27  69             32\n",
      "83   HduiXo  632007379415  4.01     53  73             27\n",
      "85   pBaGgj  632007347298  2.33      8  60             66\n",
      "87   15hdZi  632007027614  4.83     96  84             28\n",
      "89   rk6ig9  632007182657  2.29      9   7             48\n",
      "91   AzIkRu  632007250847  3.31     33  98             30\n",
      "93   64RKx7  632007395281  2.11     45  76             86\n",
      "95   F6pajm  632007721438  2.74     56  65             86\n",
      "97   Aub2sy  632007302164  3.23    100  45             99\n",
      "99   aZ04L5  632007125874  4.30     63  75             19\n",
      "101  hCx5Vf  632007782964  3.47     89  92             71\n",
      "103  0BaExD  632007893521  4.36     71  66             13\n"
     ]
    }
   ],
   "source": [
    "import pandas as pd\n",
    "import numpy as np\n",
    "import random\n",
    "import time\n",
    "import string\n",
    "\n",
    "random.seed(time.time())\n",
    "\n",
    "def get_name():\n",
    "    name_letters = random.sample(string.ascii_letters + string.digits,6)\n",
    "    return \"\".join(name_letters)\n",
    "\n",
    "def get_GPA():\n",
    "    gpa = random.uniform(2,5)\n",
    "    return round(gpa,2)\n",
    "\n",
    "def get_stuNum():\n",
    "    header = \"632007\"\n",
    "    tail = random.sample(string.digits,6)\n",
    "    return header + \"\".join(tail)\n",
    "\n",
    "def get_score():\n",
    "    return random.randint(0,100)\n",
    "\n",
    "data = {\n",
    "    \"姓名\":[get_name() for _ in range(50)],\n",
    "    \"学号\":[get_stuNum() for _ in range(50)],\n",
    "    \"GPA\":[get_GPA() for _ in range(50)],\n",
    "    \"C语言\":[get_score() for _ in range(50)],\n",
    "    \"OS\":[get_score() for _ in range(50)],\n",
    "    \"DataStructure\":[get_score() for _ in range(50)],\n",
    "}\n",
    "\n",
    "ts = pd.DataFrame(data,index = [ x + 1 for x in range(50)])\n",
    "ts = ts.rename(index = lambda x : 2*x +3,columns={\"C语言\":\"wocao\"})\n",
    "print(ts )"
   ]
  },
  {
   "cell_type": "code",
   "execution_count": 64,
   "outputs": [
    {
     "name": "stdout",
     "output_type": "stream",
     "text": [
      "[[ 0  1  2  3  4 95 83  8 49 29]\n",
      " [ 5  6  7  8  9 61 78 39 58 85]\n",
      " [10 11 12 13 14 34 74 79 99 49]\n",
      " [15 16 17 18 19 19 97 38 88 81]\n",
      " [20 21 22 23 24 54 46 30  7 36]]\n"
     ]
    }
   ],
   "source": [
    "import  numpy as np\n",
    "import  random\n",
    "\n",
    "arr1 = np.arange(25).reshape(5,5)\n",
    "arr2 = np.random.randint(0,100,size=(5,5))\n",
    "print(np.concatenate([arr1,arr2],axis=1))"
   ],
   "metadata": {
    "collapsed": false,
    "pycharm": {
     "name": "#%%\n"
    }
   }
  },
  {
   "cell_type": "code",
   "execution_count": null,
   "outputs": [],
   "source": [
    "from datetime import  datetime\n",
    "\n",
    "\n",
    "date_list = [\n",
    "    datetime(2019,3,4,9,3)\n",
    "]"
   ],
   "metadata": {
    "collapsed": false,
    "pycharm": {
     "name": "#%%\n"
    }
   }
  },
  {
   "cell_type": "code",
   "execution_count": null,
   "outputs": [],
   "source": [
    "from seaborn import sns\n"
   ],
   "metadata": {
    "collapsed": false,
    "pycharm": {
     "name": "#%%\n"
    }
   }
  }
 ],
 "metadata": {
  "interpreter": {
   "hash": "cbd36271b14161e816249ef302914b36ea00e417f0243174c8de0dd9cab2f8e6"
  },
  "kernelspec": {
   "display_name": "Python 3.9.7 64-bit ('base': conda)",
   "language": "python",
   "name": "python3"
  },
  "language_info": {
   "codemirror_mode": {
    "name": "ipython",
    "version": 3
   },
   "file_extension": ".py",
   "mimetype": "text/x-python",
   "name": "python",
   "nbconvert_exporter": "python",
   "pygments_lexer": "ipython3",
   "version": "3.9.7"
  },
  "orig_nbformat": 4
 },
 "nbformat": 4,
 "nbformat_minor": 2
}