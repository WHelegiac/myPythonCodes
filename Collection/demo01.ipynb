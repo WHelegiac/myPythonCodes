{
 "cells": [
  {
   "cell_type": "code",
   "execution_count": null,
   "metadata": {},
   "outputs": [],
   "source": [
    "from collections import ChainMap\n",
    "import random\n",
    "import string \n",
    "\n",
    "random_dict1 = {random.randint(0,10000) : \"\".join(random.sample(string.ascii_letters,6))  for _ in range(10)}\n",
    "\n",
    "random_dict2 = {random.randint(0,10000) : \"\".join(random.sample(string.ascii_letters,6))  for _ in range(10)}\n",
    "\n",
    "random_dict3 = {random.randint(0,10000) : \"\".join(random.sample(string.ascii_letters,6))  for _ in range(10)}\n",
    "\n",
    "random_dict4 = {random.randint(0,10000) : \"\".join(random.sample(string.ascii_letters,6))  for _ in range(10)}\n",
    "\n",
    "\n",
    "new_dict = ChainMap(random_dict1,random_dict2,random_dict3,random_dict4)\n",
    "\n",
    "for  item in new_dict.maps:\n",
    "    print(item)\n"
   ]
  },
  {
   "cell_type": "code",
   "execution_count": 20,
   "metadata": {},
   "outputs": [
    {
     "name": "stdout",
     "output_type": "stream",
     "text": [
      "None\n"
     ]
    }
   ],
   "source": [
    "from collections import OrderedDict\n",
    "\n",
    "\n",
    "dict1  = OrderedDict()\n",
    "\n",
    "dict1[\"WanHao\"] = 666\n",
    "dict1[\"YuZhiBo\"] = 999\n",
    "dict1[\"WoCao\"] = 520\n",
    "\n",
    "\n",
    "print()\n"
   ]
  },
  {
   "cell_type": "code",
   "execution_count": 30,
   "metadata": {},
   "outputs": [
    {
     "name": "stdout",
     "output_type": "stream",
     "text": [
      "[('L', 430), ('F', 415), ('V', 412), ('S', 407)]\n"
     ]
    }
   ],
   "source": [
    "from collections import Counter\n",
    "\n",
    "listOne = [random.choice(string.ascii_uppercase) for _ in range(10000)]\n",
    "\n",
    "listTwo = [random.choice(string.ascii_lowercase) for _ in range(10000)]\n",
    "\n",
    "counter = Counter(listOne)\n",
    "counter = Counterx.update(y)\n",
    "print(counter.most_common(4))"
   ]
  }
 ],
 "metadata": {
  "interpreter": {
   "hash": "cbd36271b14161e816249ef302914b36ea00e417f0243174c8de0dd9cab2f8e6"
  },
  "kernelspec": {
   "display_name": "Python 3.9.7 ('base')",
   "language": "python",
   "name": "python3"
  },
  "language_info": {
   "codemirror_mode": {
    "name": "ipython",
    "version": 3
   },
   "file_extension": ".py",
   "mimetype": "text/x-python",
   "name": "python",
   "nbconvert_exporter": "python",
   "pygments_lexer": "ipython3",
   "version": "3.9.7"
  },
  "orig_nbformat": 4
 },
 "nbformat": 4,
 "nbformat_minor": 2
}
