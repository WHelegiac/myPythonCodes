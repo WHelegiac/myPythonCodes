{
 "cells": [
  {
   "cell_type": "code",
   "execution_count": null,
   "metadata": {},
   "outputs": [],
   "source": [
    "from PIL import Image\n",
    "\n",
    "filePath = \"./imgs/img01.jpg\"\n",
    "\n",
    "img01 = Image.open(filePath,mode = \"r\")\n",
    "img01.show()"
   ]
  },
  {
   "cell_type": "code",
   "execution_count": null,
   "metadata": {},
   "outputs": [],
   "source": [
    "from PIL import Image\n",
    "\n",
    "im_1=Image.new(mode='RGB',size = (144,100),color=\"#ff0000\")\n",
    "im_1.show()"
   ]
  },
  {
   "cell_type": "code",
   "execution_count": null,
   "metadata": {},
   "outputs": [],
   "source": [
    "from PIL import Image\n",
    "\n",
    "image01 = Image.open(\"./imgs/img02.jpg\")\n",
    "\n",
    "print(image01)\n",
    "print(\"这张图片的宽为:%d,高为:%d\" % (image01.width,image01.height))\n",
    "print(image01.size[0])"
   ]
  },
  {
   "cell_type": "code",
   "execution_count": null,
   "metadata": {},
   "outputs": [],
   "source": [
    "from PIL import Image\n",
    "\n",
    "ImageOne = Image.open(\"./imgs/img03.jpg\")\n",
    "try:  \n",
    "    ImageTwo = ImageOne.resize((550,250))\n",
    "    ImageTwo.save(\"./imgs/newImage01.png\")\n",
    "    print(\"newImage size:\",ImageTwo.size)\n",
    "except IOError:\n",
    "    print(\"放大图像失败！\")\n",
    "     \n",
    "    "
   ]
  },
  {
   "cell_type": "code",
   "execution_count": null,
   "metadata": {},
   "outputs": [],
   "source": [
    "from PIL import Image\n",
    "\n",
    "imageOne = Image.open(\"./imgs/img02.jpg\")\n",
    "imageOne.thumbnail((50,50))\n",
    "imageOne.save(\"./imgs/newImage01.png\")"
   ]
  },
  {
   "cell_type": "code",
   "execution_count": 19,
   "metadata": {},
   "outputs": [],
   "source": [
    "import os\n",
    "\n",
    "basePath = \"./images\"\n",
    "filenames = os.listdir(basePath)\n",
    "\n",
    "for index in range(filenames.__len__()):\n",
    "    \n",
    "    filename = filenames[index]\n",
    "    oldFileName = basePath + os.sep + filename\n",
    "    newFileName = oldFileName.replace(\"png\",\".png\")\n",
    "    \n",
    "    os.rename(oldFileName,newFileName)"
   ]
  },
  {
   "cell_type": "code",
   "execution_count": 21,
   "metadata": {},
   "outputs": [],
   "source": [
    "from PIL import Image\n",
    "\n",
    "imageOne = Image.open(\"./images/Image10.png\")\n",
    "\n",
    "box = (0,0,1000,1000)\n",
    "\n",
    "imageCropOne = imageOne.crop(box)\n",
    "imageCropOne.show()"
   ]
  },
  {
   "cell_type": "code",
   "execution_count": 24,
   "metadata": {},
   "outputs": [
    {
     "ename": "TypeError",
     "evalue": "'int' object is not callable",
     "output_type": "error",
     "traceback": [
      "\u001b[1;31m---------------------------------------------------------------------------\u001b[0m",
      "\u001b[1;31mTypeError\u001b[0m                                 Traceback (most recent call last)",
      "\u001b[1;32m<ipython-input-24-f267e38692ee>\u001b[0m in \u001b[0;36m<module>\u001b[1;34m\u001b[0m\n\u001b[0;32m      3\u001b[0m \u001b[0mImageTree\u001b[0m \u001b[1;33m=\u001b[0m \u001b[0mImage\u001b[0m\u001b[1;33m.\u001b[0m\u001b[0mopen\u001b[0m\u001b[1;33m(\u001b[0m\u001b[1;34m\"./images/Image100.png\"\u001b[0m\u001b[1;33m)\u001b[0m\u001b[1;33m\u001b[0m\u001b[1;33m\u001b[0m\u001b[0m\n\u001b[0;32m      4\u001b[0m \u001b[1;33m\u001b[0m\u001b[0m\n\u001b[1;32m----> 5\u001b[1;33m \u001b[0mImageTreeAfter\u001b[0m \u001b[1;33m=\u001b[0m \u001b[0mImage\u001b[0m\u001b[1;33m.\u001b[0m\u001b[0mTRANSPOSE\u001b[0m\u001b[1;33m(\u001b[0m\u001b[1;33m)\u001b[0m\u001b[1;33m\u001b[0m\u001b[1;33m\u001b[0m\u001b[0m\n\u001b[0m\u001b[0;32m      6\u001b[0m \u001b[0mImageTreeAfter\u001b[0m\u001b[1;33m.\u001b[0m\u001b[0mshow\u001b[0m\u001b[1;33m(\u001b[0m\u001b[1;33m)\u001b[0m\u001b[1;33m\u001b[0m\u001b[1;33m\u001b[0m\u001b[0m\n",
      "\u001b[1;31mTypeError\u001b[0m: 'int' object is not callable"
     ]
    }
   ],
   "source": [
    "from PIL import Image\n",
    "\n",
    "ImageTree = Image.open(\"./images/Image100.png\")\n",
    "\n",
    "#ImageTreeAfter = Image.\n",
    "#ImageTreeAfter.show()"
   ]
  }
 ],
 "metadata": {
  "interpreter": {
   "hash": "cbd36271b14161e816249ef302914b36ea00e417f0243174c8de0dd9cab2f8e6"
  },
  "kernelspec": {
   "display_name": "Python 3.8.8 64-bit ('base': conda)",
   "language": "python",
   "name": "python3"
  },
  "language_info": {
   "codemirror_mode": {
    "name": "ipython",
    "version": 3
   },
   "file_extension": ".py",
   "mimetype": "text/x-python",
   "name": "python",
   "nbconvert_exporter": "python",
   "pygments_lexer": "ipython3",
   "version": "3.8.8"
  },
  "orig_nbformat": 4
 },
 "nbformat": 4,
 "nbformat_minor": 2
}
