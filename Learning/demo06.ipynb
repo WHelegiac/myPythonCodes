{
 "cells": [
  {
   "cell_type": "code",
   "execution_count": null,
   "metadata": {},
   "outputs": [],
   "source": [
    "class Player1:\n",
    "    __slots__ = ('name','age')\n",
    "\n",
    "p = Player1()\n",
    "p.name = \"WanHao\"\n",
    "p.age = 18\n",
    "p.height = 1.75\n",
    "print(p.__dict__['name'])"
   ]
  },
  {
   "cell_type": "code",
   "execution_count": null,
   "metadata": {},
   "outputs": [],
   "source": []
  },
  {
   "cell_type": "code",
   "execution_count": null,
   "metadata": {},
   "outputs": [],
   "source": [
    "import math\n",
    "class Circle:\n",
    "    def __init__(self,radius = 0):\n",
    "        self.radius = radius\n",
    "        \n",
    "    def get_area(self):\n",
    "        return self.radius * self.radius * math.pi\n",
    "\n",
    "    def set_area(self,S):\n",
    "        self.radius = math.sqrt(S / math.pi)\n",
    "    \n",
    "    def set_radius(self, radius):\n",
    "        self.radius = radius\n",
    "        \n",
    "    def get_radius(self):\n",
    "        return self.radius\n",
    "\n",
    "    radius = property(get_radius,set_radius)\n",
    "\n",
    "c = Circle()\n",
    "c.get_area()\n",
    "print(c)"
   ]
  }
 ],
 "metadata": {
  "interpreter": {
   "hash": "cbd36271b14161e816249ef302914b36ea00e417f0243174c8de0dd9cab2f8e6"
  },
  "kernelspec": {
   "display_name": "Python 3.9.7 ('base')",
   "language": "python",
   "name": "python3"
  },
  "language_info": {
   "codemirror_mode": {
    "name": "ipython",
    "version": 3
   },
   "file_extension": ".py",
   "mimetype": "text/x-python",
   "name": "python",
   "nbconvert_exporter": "python",
   "pygments_lexer": "ipython3",
   "version": "3.9.7"
  },
  "orig_nbformat": 4
 },
 "nbformat": 4,
 "nbformat_minor": 2
}
