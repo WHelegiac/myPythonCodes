{
 "cells": [
  {
   "cell_type": "code",
   "execution_count": null,
   "metadata": {},
   "outputs": [],
   "source": [
    "import jieba\n",
    "\n",
    "myStr = [\"我叫万豪\",\"我觉得python真好玩\"]\n",
    "jieba.enable_paddle()\n",
    "\n",
    "\n"
   ]
  },
  {
   "cell_type": "code",
   "execution_count": null,
   "metadata": {},
   "outputs": [],
   "source": [
    "import jieba\n",
    "jieba.enable_paddle() # 0.4版本以后支持paddle模式\n",
    "strings = ['我来自极客大学', 'Python进阶训练营真好玩']\n",
    "\n",
    "for string in strings:\n",
    "    result = jieba.cut(string, cut_all=False) # 精确模式\n",
    "    print('Default Mode: ' + '/'.join(list(result)))\n",
    "\n",
    "for string in strings:\n",
    "    result = jieba.cut(string, cut_all=True) # 全模式\n",
    "    print('Full Mode: ' + '/'.join(list(result)))\n",
    "\n",
    "\n",
    "for string in strings:\n",
    "    result = jieba.cut(string, use_paddle=True) # paddle模式\n",
    "    print('Paddle Mode: ' + '/'.join(list(result)))\n",
    "\n",
    "result = jieba.cut('钟南山院士接受采访新冠不会二次暴发') # 默认是精确模式\n",
    "print('/'.join(list(result)))\n",
    "# \"新冠\" 没有在词典中，但是被Viterbi算法识别出来了\n",
    "\n",
    "result = jieba.cut_for_search('小明硕士毕业于中国科学院计算所，后在日本京都大学深造') # 搜索引擎模式\n",
    "print('Search Mode: ' + '/'.join(list(result)))\n"
   ]
  },
  {
   "cell_type": "code",
   "execution_count": 19,
   "metadata": {},
   "outputs": [
    {
     "name": "stdout",
     "output_type": "stream",
     "text": [
      "['数学', '学习', '数学知识', '基础知识', '从头到尾']\n",
      "['需要', '基础', '数学', '学习', '掌握']\n"
     ]
    }
   ],
   "source": [
    "import pprint             # pprint 模块提供了打印出任何Python数据结构的类和方法\n",
    "import jieba.analyse\n",
    "\n",
    "text = '机器学习，需要一定的数学基础，需要掌握的数学基础知识特别多，如果从头到尾开始学，估计大部分人来不及，我建议先学习最基础的数学知识'\n",
    "# 基于TF-IDF算法进行关键词抽取\n",
    "\n",
    "tfidf = jieba.analyse.extract_tags(text,\n",
    "                                   topK=5,                   # 权重最大的topK个关键词\n",
    "                                   withWeight=False)         # 返回每个关键字的权重值\n",
    "# 基于TextRank算法进行关键词抽取\n",
    "textrank = jieba.analyse.textrank(text,\n",
    "                                  topK=5,                   # 权重最大的topK个关键词\n",
    "                                  withWeight=False)         # 返回每个关键字的权重值\n",
    "\n",
    "pprint.pprint(tfidf)\n",
    "pprint.pprint(textrank)\n"
   ]
  },
  {
   "cell_type": "code",
   "execution_count": null,
   "metadata": {},
   "outputs": [],
   "source": [
    "import paddle\n",
    "paddle.enable_static()\n"
   ]
  },
  {
   "cell_type": "code",
   "execution_count": 20,
   "metadata": {},
   "outputs": [
    {
     "ename": "ModuleNotFoundError",
     "evalue": "No module named 'wordCloud'",
     "output_type": "error",
     "traceback": [
      "\u001b[1;31m---------------------------------------------------------------------------\u001b[0m",
      "\u001b[1;31mModuleNotFoundError\u001b[0m                       Traceback (most recent call last)",
      "\u001b[1;32m~\\AppData\\Local\\Temp/ipykernel_82204/3880885038.py\u001b[0m in \u001b[0;36m<module>\u001b[1;34m\u001b[0m\n\u001b[1;32m----> 1\u001b[1;33m \u001b[1;32mimport\u001b[0m \u001b[0mwordCloud\u001b[0m\u001b[1;33m\u001b[0m\u001b[1;33m\u001b[0m\u001b[0m\n\u001b[0m",
      "\u001b[1;31mModuleNotFoundError\u001b[0m: No module named 'wordCloud'"
     ]
    }
   ],
   "source": [
    "import wordCloud"
   ]
  }
 ],
 "metadata": {
  "interpreter": {
   "hash": "cbd36271b14161e816249ef302914b36ea00e417f0243174c8de0dd9cab2f8e6"
  },
  "kernelspec": {
   "display_name": "Python 3.9.7 ('base')",
   "language": "python",
   "name": "python3"
  },
  "language_info": {
   "codemirror_mode": {
    "name": "ipython",
    "version": 3
   },
   "file_extension": ".py",
   "mimetype": "text/x-python",
   "name": "python",
   "nbconvert_exporter": "python",
   "pygments_lexer": "ipython3",
   "version": "3.9.7"
  },
  "orig_nbformat": 4
 },
 "nbformat": 4,
 "nbformat_minor": 2
}
